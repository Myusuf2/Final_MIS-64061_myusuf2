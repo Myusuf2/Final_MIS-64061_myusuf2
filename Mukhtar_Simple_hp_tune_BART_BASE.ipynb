{
  "nbformat": 4,
  "nbformat_minor": 0,
  "metadata": {
    "colab": {
      "provenance": [],
      "include_colab_link": true
    },
    "kernelspec": {
      "name": "python3",
      "display_name": "Python 3"
    },
    "language_info": {
      "name": "python"
    },
    "gpuClass": "premium",
    "accelerator": "GPU",
    "widgets": {
      "application/vnd.jupyter.widget-state+json": {
        "ddb8fa24185c4336ad36d5caf4b8696c": {
          "model_module": "@jupyter-widgets/controls",
          "model_name": "HBoxModel",
          "model_module_version": "1.5.0",
          "state": {
            "_dom_classes": [],
            "_model_module": "@jupyter-widgets/controls",
            "_model_module_version": "1.5.0",
            "_model_name": "HBoxModel",
            "_view_count": null,
            "_view_module": "@jupyter-widgets/controls",
            "_view_module_version": "1.5.0",
            "_view_name": "HBoxView",
            "box_style": "",
            "children": [
              "IPY_MODEL_2ce4d0c5aef4478e865dc0e6e9261c90",
              "IPY_MODEL_8ee65f35acdd485689ef013e77619add",
              "IPY_MODEL_bacdc6752abd432ca085a9c56ac6a633"
            ],
            "layout": "IPY_MODEL_f81053accb694a0fb068c7e8d182013f"
          }
        },
        "2ce4d0c5aef4478e865dc0e6e9261c90": {
          "model_module": "@jupyter-widgets/controls",
          "model_name": "HTMLModel",
          "model_module_version": "1.5.0",
          "state": {
            "_dom_classes": [],
            "_model_module": "@jupyter-widgets/controls",
            "_model_module_version": "1.5.0",
            "_model_name": "HTMLModel",
            "_view_count": null,
            "_view_module": "@jupyter-widgets/controls",
            "_view_module_version": "1.5.0",
            "_view_name": "HTMLView",
            "description": "",
            "description_tooltip": null,
            "layout": "IPY_MODEL_c857ec34835a4015a6a752fb74d5f4eb",
            "placeholder": "​",
            "style": "IPY_MODEL_4a28391cfcd648e0a574fe5a05b59c15",
            "value": "Downloading: 100%"
          }
        },
        "8ee65f35acdd485689ef013e77619add": {
          "model_module": "@jupyter-widgets/controls",
          "model_name": "FloatProgressModel",
          "model_module_version": "1.5.0",
          "state": {
            "_dom_classes": [],
            "_model_module": "@jupyter-widgets/controls",
            "_model_module_version": "1.5.0",
            "_model_name": "FloatProgressModel",
            "_view_count": null,
            "_view_module": "@jupyter-widgets/controls",
            "_view_module_version": "1.5.0",
            "_view_name": "ProgressView",
            "bar_style": "success",
            "description": "",
            "description_tooltip": null,
            "layout": "IPY_MODEL_c8c6f2a00ba44b35952fba778cc06cec",
            "max": 898823,
            "min": 0,
            "orientation": "horizontal",
            "style": "IPY_MODEL_78270c9f9e6d4c5ba9e675bef2004364",
            "value": 898823
          }
        },
        "bacdc6752abd432ca085a9c56ac6a633": {
          "model_module": "@jupyter-widgets/controls",
          "model_name": "HTMLModel",
          "model_module_version": "1.5.0",
          "state": {
            "_dom_classes": [],
            "_model_module": "@jupyter-widgets/controls",
            "_model_module_version": "1.5.0",
            "_model_name": "HTMLModel",
            "_view_count": null,
            "_view_module": "@jupyter-widgets/controls",
            "_view_module_version": "1.5.0",
            "_view_name": "HTMLView",
            "description": "",
            "description_tooltip": null,
            "layout": "IPY_MODEL_6b6009fcd32446e69873086d8abd22f6",
            "placeholder": "​",
            "style": "IPY_MODEL_38b5e8025f79416e8dc1744b80de1e44",
            "value": " 899k/899k [00:00&lt;00:00, 1.89MB/s]"
          }
        },
        "f81053accb694a0fb068c7e8d182013f": {
          "model_module": "@jupyter-widgets/base",
          "model_name": "LayoutModel",
          "model_module_version": "1.2.0",
          "state": {
            "_model_module": "@jupyter-widgets/base",
            "_model_module_version": "1.2.0",
            "_model_name": "LayoutModel",
            "_view_count": null,
            "_view_module": "@jupyter-widgets/base",
            "_view_module_version": "1.2.0",
            "_view_name": "LayoutView",
            "align_content": null,
            "align_items": null,
            "align_self": null,
            "border": null,
            "bottom": null,
            "display": null,
            "flex": null,
            "flex_flow": null,
            "grid_area": null,
            "grid_auto_columns": null,
            "grid_auto_flow": null,
            "grid_auto_rows": null,
            "grid_column": null,
            "grid_gap": null,
            "grid_row": null,
            "grid_template_areas": null,
            "grid_template_columns": null,
            "grid_template_rows": null,
            "height": null,
            "justify_content": null,
            "justify_items": null,
            "left": null,
            "margin": null,
            "max_height": null,
            "max_width": null,
            "min_height": null,
            "min_width": null,
            "object_fit": null,
            "object_position": null,
            "order": null,
            "overflow": null,
            "overflow_x": null,
            "overflow_y": null,
            "padding": null,
            "right": null,
            "top": null,
            "visibility": null,
            "width": null
          }
        },
        "c857ec34835a4015a6a752fb74d5f4eb": {
          "model_module": "@jupyter-widgets/base",
          "model_name": "LayoutModel",
          "model_module_version": "1.2.0",
          "state": {
            "_model_module": "@jupyter-widgets/base",
            "_model_module_version": "1.2.0",
            "_model_name": "LayoutModel",
            "_view_count": null,
            "_view_module": "@jupyter-widgets/base",
            "_view_module_version": "1.2.0",
            "_view_name": "LayoutView",
            "align_content": null,
            "align_items": null,
            "align_self": null,
            "border": null,
            "bottom": null,
            "display": null,
            "flex": null,
            "flex_flow": null,
            "grid_area": null,
            "grid_auto_columns": null,
            "grid_auto_flow": null,
            "grid_auto_rows": null,
            "grid_column": null,
            "grid_gap": null,
            "grid_row": null,
            "grid_template_areas": null,
            "grid_template_columns": null,
            "grid_template_rows": null,
            "height": null,
            "justify_content": null,
            "justify_items": null,
            "left": null,
            "margin": null,
            "max_height": null,
            "max_width": null,
            "min_height": null,
            "min_width": null,
            "object_fit": null,
            "object_position": null,
            "order": null,
            "overflow": null,
            "overflow_x": null,
            "overflow_y": null,
            "padding": null,
            "right": null,
            "top": null,
            "visibility": null,
            "width": null
          }
        },
        "4a28391cfcd648e0a574fe5a05b59c15": {
          "model_module": "@jupyter-widgets/controls",
          "model_name": "DescriptionStyleModel",
          "model_module_version": "1.5.0",
          "state": {
            "_model_module": "@jupyter-widgets/controls",
            "_model_module_version": "1.5.0",
            "_model_name": "DescriptionStyleModel",
            "_view_count": null,
            "_view_module": "@jupyter-widgets/base",
            "_view_module_version": "1.2.0",
            "_view_name": "StyleView",
            "description_width": ""
          }
        },
        "c8c6f2a00ba44b35952fba778cc06cec": {
          "model_module": "@jupyter-widgets/base",
          "model_name": "LayoutModel",
          "model_module_version": "1.2.0",
          "state": {
            "_model_module": "@jupyter-widgets/base",
            "_model_module_version": "1.2.0",
            "_model_name": "LayoutModel",
            "_view_count": null,
            "_view_module": "@jupyter-widgets/base",
            "_view_module_version": "1.2.0",
            "_view_name": "LayoutView",
            "align_content": null,
            "align_items": null,
            "align_self": null,
            "border": null,
            "bottom": null,
            "display": null,
            "flex": null,
            "flex_flow": null,
            "grid_area": null,
            "grid_auto_columns": null,
            "grid_auto_flow": null,
            "grid_auto_rows": null,
            "grid_column": null,
            "grid_gap": null,
            "grid_row": null,
            "grid_template_areas": null,
            "grid_template_columns": null,
            "grid_template_rows": null,
            "height": null,
            "justify_content": null,
            "justify_items": null,
            "left": null,
            "margin": null,
            "max_height": null,
            "max_width": null,
            "min_height": null,
            "min_width": null,
            "object_fit": null,
            "object_position": null,
            "order": null,
            "overflow": null,
            "overflow_x": null,
            "overflow_y": null,
            "padding": null,
            "right": null,
            "top": null,
            "visibility": null,
            "width": null
          }
        },
        "78270c9f9e6d4c5ba9e675bef2004364": {
          "model_module": "@jupyter-widgets/controls",
          "model_name": "ProgressStyleModel",
          "model_module_version": "1.5.0",
          "state": {
            "_model_module": "@jupyter-widgets/controls",
            "_model_module_version": "1.5.0",
            "_model_name": "ProgressStyleModel",
            "_view_count": null,
            "_view_module": "@jupyter-widgets/base",
            "_view_module_version": "1.2.0",
            "_view_name": "StyleView",
            "bar_color": null,
            "description_width": ""
          }
        },
        "6b6009fcd32446e69873086d8abd22f6": {
          "model_module": "@jupyter-widgets/base",
          "model_name": "LayoutModel",
          "model_module_version": "1.2.0",
          "state": {
            "_model_module": "@jupyter-widgets/base",
            "_model_module_version": "1.2.0",
            "_model_name": "LayoutModel",
            "_view_count": null,
            "_view_module": "@jupyter-widgets/base",
            "_view_module_version": "1.2.0",
            "_view_name": "LayoutView",
            "align_content": null,
            "align_items": null,
            "align_self": null,
            "border": null,
            "bottom": null,
            "display": null,
            "flex": null,
            "flex_flow": null,
            "grid_area": null,
            "grid_auto_columns": null,
            "grid_auto_flow": null,
            "grid_auto_rows": null,
            "grid_column": null,
            "grid_gap": null,
            "grid_row": null,
            "grid_template_areas": null,
            "grid_template_columns": null,
            "grid_template_rows": null,
            "height": null,
            "justify_content": null,
            "justify_items": null,
            "left": null,
            "margin": null,
            "max_height": null,
            "max_width": null,
            "min_height": null,
            "min_width": null,
            "object_fit": null,
            "object_position": null,
            "order": null,
            "overflow": null,
            "overflow_x": null,
            "overflow_y": null,
            "padding": null,
            "right": null,
            "top": null,
            "visibility": null,
            "width": null
          }
        },
        "38b5e8025f79416e8dc1744b80de1e44": {
          "model_module": "@jupyter-widgets/controls",
          "model_name": "DescriptionStyleModel",
          "model_module_version": "1.5.0",
          "state": {
            "_model_module": "@jupyter-widgets/controls",
            "_model_module_version": "1.5.0",
            "_model_name": "DescriptionStyleModel",
            "_view_count": null,
            "_view_module": "@jupyter-widgets/base",
            "_view_module_version": "1.2.0",
            "_view_name": "StyleView",
            "description_width": ""
          }
        },
        "4269b9faa981474883077785906ee05c": {
          "model_module": "@jupyter-widgets/controls",
          "model_name": "HBoxModel",
          "model_module_version": "1.5.0",
          "state": {
            "_dom_classes": [],
            "_model_module": "@jupyter-widgets/controls",
            "_model_module_version": "1.5.0",
            "_model_name": "HBoxModel",
            "_view_count": null,
            "_view_module": "@jupyter-widgets/controls",
            "_view_module_version": "1.5.0",
            "_view_name": "HBoxView",
            "box_style": "",
            "children": [
              "IPY_MODEL_1437768c2e4b4ad48c8ff82fdf4afa21",
              "IPY_MODEL_51cc5a53485f47499d64ae520b8eb22e",
              "IPY_MODEL_3725ace7068447128842ceb3e1601e5f"
            ],
            "layout": "IPY_MODEL_b67dc83e9f4144899766b99706bf4b94"
          }
        },
        "1437768c2e4b4ad48c8ff82fdf4afa21": {
          "model_module": "@jupyter-widgets/controls",
          "model_name": "HTMLModel",
          "model_module_version": "1.5.0",
          "state": {
            "_dom_classes": [],
            "_model_module": "@jupyter-widgets/controls",
            "_model_module_version": "1.5.0",
            "_model_name": "HTMLModel",
            "_view_count": null,
            "_view_module": "@jupyter-widgets/controls",
            "_view_module_version": "1.5.0",
            "_view_name": "HTMLView",
            "description": "",
            "description_tooltip": null,
            "layout": "IPY_MODEL_43636ae456364ababd4321596195c68f",
            "placeholder": "​",
            "style": "IPY_MODEL_4241b634d2d24af39784effa0eb2b305",
            "value": "Downloading: 100%"
          }
        },
        "51cc5a53485f47499d64ae520b8eb22e": {
          "model_module": "@jupyter-widgets/controls",
          "model_name": "FloatProgressModel",
          "model_module_version": "1.5.0",
          "state": {
            "_dom_classes": [],
            "_model_module": "@jupyter-widgets/controls",
            "_model_module_version": "1.5.0",
            "_model_name": "FloatProgressModel",
            "_view_count": null,
            "_view_module": "@jupyter-widgets/controls",
            "_view_module_version": "1.5.0",
            "_view_name": "ProgressView",
            "bar_style": "success",
            "description": "",
            "description_tooltip": null,
            "layout": "IPY_MODEL_7dbe9b4be01842738a500ff9eac1c3cb",
            "max": 456318,
            "min": 0,
            "orientation": "horizontal",
            "style": "IPY_MODEL_101d4b88daed4db7a8fb022e18028b33",
            "value": 456318
          }
        },
        "3725ace7068447128842ceb3e1601e5f": {
          "model_module": "@jupyter-widgets/controls",
          "model_name": "HTMLModel",
          "model_module_version": "1.5.0",
          "state": {
            "_dom_classes": [],
            "_model_module": "@jupyter-widgets/controls",
            "_model_module_version": "1.5.0",
            "_model_name": "HTMLModel",
            "_view_count": null,
            "_view_module": "@jupyter-widgets/controls",
            "_view_module_version": "1.5.0",
            "_view_name": "HTMLView",
            "description": "",
            "description_tooltip": null,
            "layout": "IPY_MODEL_0ad2f07729a34776ac4455e7b5d16791",
            "placeholder": "​",
            "style": "IPY_MODEL_fbb0e8b2448e469cb9ad8cadb6f3ebbe",
            "value": " 456k/456k [00:00&lt;00:00, 683kB/s]"
          }
        },
        "b67dc83e9f4144899766b99706bf4b94": {
          "model_module": "@jupyter-widgets/base",
          "model_name": "LayoutModel",
          "model_module_version": "1.2.0",
          "state": {
            "_model_module": "@jupyter-widgets/base",
            "_model_module_version": "1.2.0",
            "_model_name": "LayoutModel",
            "_view_count": null,
            "_view_module": "@jupyter-widgets/base",
            "_view_module_version": "1.2.0",
            "_view_name": "LayoutView",
            "align_content": null,
            "align_items": null,
            "align_self": null,
            "border": null,
            "bottom": null,
            "display": null,
            "flex": null,
            "flex_flow": null,
            "grid_area": null,
            "grid_auto_columns": null,
            "grid_auto_flow": null,
            "grid_auto_rows": null,
            "grid_column": null,
            "grid_gap": null,
            "grid_row": null,
            "grid_template_areas": null,
            "grid_template_columns": null,
            "grid_template_rows": null,
            "height": null,
            "justify_content": null,
            "justify_items": null,
            "left": null,
            "margin": null,
            "max_height": null,
            "max_width": null,
            "min_height": null,
            "min_width": null,
            "object_fit": null,
            "object_position": null,
            "order": null,
            "overflow": null,
            "overflow_x": null,
            "overflow_y": null,
            "padding": null,
            "right": null,
            "top": null,
            "visibility": null,
            "width": null
          }
        },
        "43636ae456364ababd4321596195c68f": {
          "model_module": "@jupyter-widgets/base",
          "model_name": "LayoutModel",
          "model_module_version": "1.2.0",
          "state": {
            "_model_module": "@jupyter-widgets/base",
            "_model_module_version": "1.2.0",
            "_model_name": "LayoutModel",
            "_view_count": null,
            "_view_module": "@jupyter-widgets/base",
            "_view_module_version": "1.2.0",
            "_view_name": "LayoutView",
            "align_content": null,
            "align_items": null,
            "align_self": null,
            "border": null,
            "bottom": null,
            "display": null,
            "flex": null,
            "flex_flow": null,
            "grid_area": null,
            "grid_auto_columns": null,
            "grid_auto_flow": null,
            "grid_auto_rows": null,
            "grid_column": null,
            "grid_gap": null,
            "grid_row": null,
            "grid_template_areas": null,
            "grid_template_columns": null,
            "grid_template_rows": null,
            "height": null,
            "justify_content": null,
            "justify_items": null,
            "left": null,
            "margin": null,
            "max_height": null,
            "max_width": null,
            "min_height": null,
            "min_width": null,
            "object_fit": null,
            "object_position": null,
            "order": null,
            "overflow": null,
            "overflow_x": null,
            "overflow_y": null,
            "padding": null,
            "right": null,
            "top": null,
            "visibility": null,
            "width": null
          }
        },
        "4241b634d2d24af39784effa0eb2b305": {
          "model_module": "@jupyter-widgets/controls",
          "model_name": "DescriptionStyleModel",
          "model_module_version": "1.5.0",
          "state": {
            "_model_module": "@jupyter-widgets/controls",
            "_model_module_version": "1.5.0",
            "_model_name": "DescriptionStyleModel",
            "_view_count": null,
            "_view_module": "@jupyter-widgets/base",
            "_view_module_version": "1.2.0",
            "_view_name": "StyleView",
            "description_width": ""
          }
        },
        "7dbe9b4be01842738a500ff9eac1c3cb": {
          "model_module": "@jupyter-widgets/base",
          "model_name": "LayoutModel",
          "model_module_version": "1.2.0",
          "state": {
            "_model_module": "@jupyter-widgets/base",
            "_model_module_version": "1.2.0",
            "_model_name": "LayoutModel",
            "_view_count": null,
            "_view_module": "@jupyter-widgets/base",
            "_view_module_version": "1.2.0",
            "_view_name": "LayoutView",
            "align_content": null,
            "align_items": null,
            "align_self": null,
            "border": null,
            "bottom": null,
            "display": null,
            "flex": null,
            "flex_flow": null,
            "grid_area": null,
            "grid_auto_columns": null,
            "grid_auto_flow": null,
            "grid_auto_rows": null,
            "grid_column": null,
            "grid_gap": null,
            "grid_row": null,
            "grid_template_areas": null,
            "grid_template_columns": null,
            "grid_template_rows": null,
            "height": null,
            "justify_content": null,
            "justify_items": null,
            "left": null,
            "margin": null,
            "max_height": null,
            "max_width": null,
            "min_height": null,
            "min_width": null,
            "object_fit": null,
            "object_position": null,
            "order": null,
            "overflow": null,
            "overflow_x": null,
            "overflow_y": null,
            "padding": null,
            "right": null,
            "top": null,
            "visibility": null,
            "width": null
          }
        },
        "101d4b88daed4db7a8fb022e18028b33": {
          "model_module": "@jupyter-widgets/controls",
          "model_name": "ProgressStyleModel",
          "model_module_version": "1.5.0",
          "state": {
            "_model_module": "@jupyter-widgets/controls",
            "_model_module_version": "1.5.0",
            "_model_name": "ProgressStyleModel",
            "_view_count": null,
            "_view_module": "@jupyter-widgets/base",
            "_view_module_version": "1.2.0",
            "_view_name": "StyleView",
            "bar_color": null,
            "description_width": ""
          }
        },
        "0ad2f07729a34776ac4455e7b5d16791": {
          "model_module": "@jupyter-widgets/base",
          "model_name": "LayoutModel",
          "model_module_version": "1.2.0",
          "state": {
            "_model_module": "@jupyter-widgets/base",
            "_model_module_version": "1.2.0",
            "_model_name": "LayoutModel",
            "_view_count": null,
            "_view_module": "@jupyter-widgets/base",
            "_view_module_version": "1.2.0",
            "_view_name": "LayoutView",
            "align_content": null,
            "align_items": null,
            "align_self": null,
            "border": null,
            "bottom": null,
            "display": null,
            "flex": null,
            "flex_flow": null,
            "grid_area": null,
            "grid_auto_columns": null,
            "grid_auto_flow": null,
            "grid_auto_rows": null,
            "grid_column": null,
            "grid_gap": null,
            "grid_row": null,
            "grid_template_areas": null,
            "grid_template_columns": null,
            "grid_template_rows": null,
            "height": null,
            "justify_content": null,
            "justify_items": null,
            "left": null,
            "margin": null,
            "max_height": null,
            "max_width": null,
            "min_height": null,
            "min_width": null,
            "object_fit": null,
            "object_position": null,
            "order": null,
            "overflow": null,
            "overflow_x": null,
            "overflow_y": null,
            "padding": null,
            "right": null,
            "top": null,
            "visibility": null,
            "width": null
          }
        },
        "fbb0e8b2448e469cb9ad8cadb6f3ebbe": {
          "model_module": "@jupyter-widgets/controls",
          "model_name": "DescriptionStyleModel",
          "model_module_version": "1.5.0",
          "state": {
            "_model_module": "@jupyter-widgets/controls",
            "_model_module_version": "1.5.0",
            "_model_name": "DescriptionStyleModel",
            "_view_count": null,
            "_view_module": "@jupyter-widgets/base",
            "_view_module_version": "1.2.0",
            "_view_name": "StyleView",
            "description_width": ""
          }
        },
        "add2bed70cfa458f95daf91817ee67d5": {
          "model_module": "@jupyter-widgets/controls",
          "model_name": "HBoxModel",
          "model_module_version": "1.5.0",
          "state": {
            "_dom_classes": [],
            "_model_module": "@jupyter-widgets/controls",
            "_model_module_version": "1.5.0",
            "_model_name": "HBoxModel",
            "_view_count": null,
            "_view_module": "@jupyter-widgets/controls",
            "_view_module_version": "1.5.0",
            "_view_name": "HBoxView",
            "box_style": "",
            "children": [
              "IPY_MODEL_7f0683e524b240cdbd0f316b9f22382c",
              "IPY_MODEL_52b7c2a5b2974d26b1a4385b4c4b05dd",
              "IPY_MODEL_173b9e656daa4deb9f12bca7283d525d"
            ],
            "layout": "IPY_MODEL_35146cc33f1049b7a89555b457974f84"
          }
        },
        "7f0683e524b240cdbd0f316b9f22382c": {
          "model_module": "@jupyter-widgets/controls",
          "model_name": "HTMLModel",
          "model_module_version": "1.5.0",
          "state": {
            "_dom_classes": [],
            "_model_module": "@jupyter-widgets/controls",
            "_model_module_version": "1.5.0",
            "_model_name": "HTMLModel",
            "_view_count": null,
            "_view_module": "@jupyter-widgets/controls",
            "_view_module_version": "1.5.0",
            "_view_name": "HTMLView",
            "description": "",
            "description_tooltip": null,
            "layout": "IPY_MODEL_98ffd73b3f7b47d297263cb31a159833",
            "placeholder": "​",
            "style": "IPY_MODEL_dba87ab287c24608ba001c5fa93c4481",
            "value": "Downloading: 100%"
          }
        },
        "52b7c2a5b2974d26b1a4385b4c4b05dd": {
          "model_module": "@jupyter-widgets/controls",
          "model_name": "FloatProgressModel",
          "model_module_version": "1.5.0",
          "state": {
            "_dom_classes": [],
            "_model_module": "@jupyter-widgets/controls",
            "_model_module_version": "1.5.0",
            "_model_name": "FloatProgressModel",
            "_view_count": null,
            "_view_module": "@jupyter-widgets/controls",
            "_view_module_version": "1.5.0",
            "_view_name": "ProgressView",
            "bar_style": "success",
            "description": "",
            "description_tooltip": null,
            "layout": "IPY_MODEL_103c1a4de21243b1a1d16b94863e71ea",
            "max": 1355863,
            "min": 0,
            "orientation": "horizontal",
            "style": "IPY_MODEL_111f2ee84cd4496e87fa8933bbba090c",
            "value": 1355863
          }
        },
        "173b9e656daa4deb9f12bca7283d525d": {
          "model_module": "@jupyter-widgets/controls",
          "model_name": "HTMLModel",
          "model_module_version": "1.5.0",
          "state": {
            "_dom_classes": [],
            "_model_module": "@jupyter-widgets/controls",
            "_model_module_version": "1.5.0",
            "_model_name": "HTMLModel",
            "_view_count": null,
            "_view_module": "@jupyter-widgets/controls",
            "_view_module_version": "1.5.0",
            "_view_name": "HTMLView",
            "description": "",
            "description_tooltip": null,
            "layout": "IPY_MODEL_9c4b8d1b870344919e48197d86bde5fa",
            "placeholder": "​",
            "style": "IPY_MODEL_52c6ecdf22964169ba281e02a6426543",
            "value": " 1.36M/1.36M [00:00&lt;00:00, 2.20MB/s]"
          }
        },
        "35146cc33f1049b7a89555b457974f84": {
          "model_module": "@jupyter-widgets/base",
          "model_name": "LayoutModel",
          "model_module_version": "1.2.0",
          "state": {
            "_model_module": "@jupyter-widgets/base",
            "_model_module_version": "1.2.0",
            "_model_name": "LayoutModel",
            "_view_count": null,
            "_view_module": "@jupyter-widgets/base",
            "_view_module_version": "1.2.0",
            "_view_name": "LayoutView",
            "align_content": null,
            "align_items": null,
            "align_self": null,
            "border": null,
            "bottom": null,
            "display": null,
            "flex": null,
            "flex_flow": null,
            "grid_area": null,
            "grid_auto_columns": null,
            "grid_auto_flow": null,
            "grid_auto_rows": null,
            "grid_column": null,
            "grid_gap": null,
            "grid_row": null,
            "grid_template_areas": null,
            "grid_template_columns": null,
            "grid_template_rows": null,
            "height": null,
            "justify_content": null,
            "justify_items": null,
            "left": null,
            "margin": null,
            "max_height": null,
            "max_width": null,
            "min_height": null,
            "min_width": null,
            "object_fit": null,
            "object_position": null,
            "order": null,
            "overflow": null,
            "overflow_x": null,
            "overflow_y": null,
            "padding": null,
            "right": null,
            "top": null,
            "visibility": null,
            "width": null
          }
        },
        "98ffd73b3f7b47d297263cb31a159833": {
          "model_module": "@jupyter-widgets/base",
          "model_name": "LayoutModel",
          "model_module_version": "1.2.0",
          "state": {
            "_model_module": "@jupyter-widgets/base",
            "_model_module_version": "1.2.0",
            "_model_name": "LayoutModel",
            "_view_count": null,
            "_view_module": "@jupyter-widgets/base",
            "_view_module_version": "1.2.0",
            "_view_name": "LayoutView",
            "align_content": null,
            "align_items": null,
            "align_self": null,
            "border": null,
            "bottom": null,
            "display": null,
            "flex": null,
            "flex_flow": null,
            "grid_area": null,
            "grid_auto_columns": null,
            "grid_auto_flow": null,
            "grid_auto_rows": null,
            "grid_column": null,
            "grid_gap": null,
            "grid_row": null,
            "grid_template_areas": null,
            "grid_template_columns": null,
            "grid_template_rows": null,
            "height": null,
            "justify_content": null,
            "justify_items": null,
            "left": null,
            "margin": null,
            "max_height": null,
            "max_width": null,
            "min_height": null,
            "min_width": null,
            "object_fit": null,
            "object_position": null,
            "order": null,
            "overflow": null,
            "overflow_x": null,
            "overflow_y": null,
            "padding": null,
            "right": null,
            "top": null,
            "visibility": null,
            "width": null
          }
        },
        "dba87ab287c24608ba001c5fa93c4481": {
          "model_module": "@jupyter-widgets/controls",
          "model_name": "DescriptionStyleModel",
          "model_module_version": "1.5.0",
          "state": {
            "_model_module": "@jupyter-widgets/controls",
            "_model_module_version": "1.5.0",
            "_model_name": "DescriptionStyleModel",
            "_view_count": null,
            "_view_module": "@jupyter-widgets/base",
            "_view_module_version": "1.2.0",
            "_view_name": "StyleView",
            "description_width": ""
          }
        },
        "103c1a4de21243b1a1d16b94863e71ea": {
          "model_module": "@jupyter-widgets/base",
          "model_name": "LayoutModel",
          "model_module_version": "1.2.0",
          "state": {
            "_model_module": "@jupyter-widgets/base",
            "_model_module_version": "1.2.0",
            "_model_name": "LayoutModel",
            "_view_count": null,
            "_view_module": "@jupyter-widgets/base",
            "_view_module_version": "1.2.0",
            "_view_name": "LayoutView",
            "align_content": null,
            "align_items": null,
            "align_self": null,
            "border": null,
            "bottom": null,
            "display": null,
            "flex": null,
            "flex_flow": null,
            "grid_area": null,
            "grid_auto_columns": null,
            "grid_auto_flow": null,
            "grid_auto_rows": null,
            "grid_column": null,
            "grid_gap": null,
            "grid_row": null,
            "grid_template_areas": null,
            "grid_template_columns": null,
            "grid_template_rows": null,
            "height": null,
            "justify_content": null,
            "justify_items": null,
            "left": null,
            "margin": null,
            "max_height": null,
            "max_width": null,
            "min_height": null,
            "min_width": null,
            "object_fit": null,
            "object_position": null,
            "order": null,
            "overflow": null,
            "overflow_x": null,
            "overflow_y": null,
            "padding": null,
            "right": null,
            "top": null,
            "visibility": null,
            "width": null
          }
        },
        "111f2ee84cd4496e87fa8933bbba090c": {
          "model_module": "@jupyter-widgets/controls",
          "model_name": "ProgressStyleModel",
          "model_module_version": "1.5.0",
          "state": {
            "_model_module": "@jupyter-widgets/controls",
            "_model_module_version": "1.5.0",
            "_model_name": "ProgressStyleModel",
            "_view_count": null,
            "_view_module": "@jupyter-widgets/base",
            "_view_module_version": "1.2.0",
            "_view_name": "StyleView",
            "bar_color": null,
            "description_width": ""
          }
        },
        "9c4b8d1b870344919e48197d86bde5fa": {
          "model_module": "@jupyter-widgets/base",
          "model_name": "LayoutModel",
          "model_module_version": "1.2.0",
          "state": {
            "_model_module": "@jupyter-widgets/base",
            "_model_module_version": "1.2.0",
            "_model_name": "LayoutModel",
            "_view_count": null,
            "_view_module": "@jupyter-widgets/base",
            "_view_module_version": "1.2.0",
            "_view_name": "LayoutView",
            "align_content": null,
            "align_items": null,
            "align_self": null,
            "border": null,
            "bottom": null,
            "display": null,
            "flex": null,
            "flex_flow": null,
            "grid_area": null,
            "grid_auto_columns": null,
            "grid_auto_flow": null,
            "grid_auto_rows": null,
            "grid_column": null,
            "grid_gap": null,
            "grid_row": null,
            "grid_template_areas": null,
            "grid_template_columns": null,
            "grid_template_rows": null,
            "height": null,
            "justify_content": null,
            "justify_items": null,
            "left": null,
            "margin": null,
            "max_height": null,
            "max_width": null,
            "min_height": null,
            "min_width": null,
            "object_fit": null,
            "object_position": null,
            "order": null,
            "overflow": null,
            "overflow_x": null,
            "overflow_y": null,
            "padding": null,
            "right": null,
            "top": null,
            "visibility": null,
            "width": null
          }
        },
        "52c6ecdf22964169ba281e02a6426543": {
          "model_module": "@jupyter-widgets/controls",
          "model_name": "DescriptionStyleModel",
          "model_module_version": "1.5.0",
          "state": {
            "_model_module": "@jupyter-widgets/controls",
            "_model_module_version": "1.5.0",
            "_model_name": "DescriptionStyleModel",
            "_view_count": null,
            "_view_module": "@jupyter-widgets/base",
            "_view_module_version": "1.2.0",
            "_view_name": "StyleView",
            "description_width": ""
          }
        },
        "92a3e6cb27d5409782acb54bf24c2885": {
          "model_module": "@jupyter-widgets/controls",
          "model_name": "HBoxModel",
          "model_module_version": "1.5.0",
          "state": {
            "_dom_classes": [],
            "_model_module": "@jupyter-widgets/controls",
            "_model_module_version": "1.5.0",
            "_model_name": "HBoxModel",
            "_view_count": null,
            "_view_module": "@jupyter-widgets/controls",
            "_view_module_version": "1.5.0",
            "_view_name": "HBoxView",
            "box_style": "",
            "children": [
              "IPY_MODEL_f037f2167fde4cc3979b23f6d2625cd4",
              "IPY_MODEL_4edbad86420741f3b452dbcbb88bfa0c",
              "IPY_MODEL_a800894d6a13436e9df93b4d282ac006"
            ],
            "layout": "IPY_MODEL_17695b55bee7411998b37ba0f9dd9f1c"
          }
        },
        "f037f2167fde4cc3979b23f6d2625cd4": {
          "model_module": "@jupyter-widgets/controls",
          "model_name": "HTMLModel",
          "model_module_version": "1.5.0",
          "state": {
            "_dom_classes": [],
            "_model_module": "@jupyter-widgets/controls",
            "_model_module_version": "1.5.0",
            "_model_name": "HTMLModel",
            "_view_count": null,
            "_view_module": "@jupyter-widgets/controls",
            "_view_module_version": "1.5.0",
            "_view_name": "HTMLView",
            "description": "",
            "description_tooltip": null,
            "layout": "IPY_MODEL_0c2de3b1442445f3b570aaa1ddd33234",
            "placeholder": "​",
            "style": "IPY_MODEL_bfbb7b621c54470fa70d6cdf8766a5c7",
            "value": "Downloading: 100%"
          }
        },
        "4edbad86420741f3b452dbcbb88bfa0c": {
          "model_module": "@jupyter-widgets/controls",
          "model_name": "FloatProgressModel",
          "model_module_version": "1.5.0",
          "state": {
            "_dom_classes": [],
            "_model_module": "@jupyter-widgets/controls",
            "_model_module_version": "1.5.0",
            "_model_name": "FloatProgressModel",
            "_view_count": null,
            "_view_module": "@jupyter-widgets/controls",
            "_view_module_version": "1.5.0",
            "_view_name": "ProgressView",
            "bar_style": "success",
            "description": "",
            "description_tooltip": null,
            "layout": "IPY_MODEL_46e044a56b7b42398f046f8df02eae74",
            "max": 1716,
            "min": 0,
            "orientation": "horizontal",
            "style": "IPY_MODEL_288d7fdf5b454a93a4c91dd3552d5d53",
            "value": 1716
          }
        },
        "a800894d6a13436e9df93b4d282ac006": {
          "model_module": "@jupyter-widgets/controls",
          "model_name": "HTMLModel",
          "model_module_version": "1.5.0",
          "state": {
            "_dom_classes": [],
            "_model_module": "@jupyter-widgets/controls",
            "_model_module_version": "1.5.0",
            "_model_name": "HTMLModel",
            "_view_count": null,
            "_view_module": "@jupyter-widgets/controls",
            "_view_module_version": "1.5.0",
            "_view_name": "HTMLView",
            "description": "",
            "description_tooltip": null,
            "layout": "IPY_MODEL_093fbb7ecd7f4e9bb11201ea5445462e",
            "placeholder": "​",
            "style": "IPY_MODEL_38ba514e4c8f45c29bbf67e5f517823e",
            "value": " 1.72k/1.72k [00:00&lt;00:00, 10.1kB/s]"
          }
        },
        "17695b55bee7411998b37ba0f9dd9f1c": {
          "model_module": "@jupyter-widgets/base",
          "model_name": "LayoutModel",
          "model_module_version": "1.2.0",
          "state": {
            "_model_module": "@jupyter-widgets/base",
            "_model_module_version": "1.2.0",
            "_model_name": "LayoutModel",
            "_view_count": null,
            "_view_module": "@jupyter-widgets/base",
            "_view_module_version": "1.2.0",
            "_view_name": "LayoutView",
            "align_content": null,
            "align_items": null,
            "align_self": null,
            "border": null,
            "bottom": null,
            "display": null,
            "flex": null,
            "flex_flow": null,
            "grid_area": null,
            "grid_auto_columns": null,
            "grid_auto_flow": null,
            "grid_auto_rows": null,
            "grid_column": null,
            "grid_gap": null,
            "grid_row": null,
            "grid_template_areas": null,
            "grid_template_columns": null,
            "grid_template_rows": null,
            "height": null,
            "justify_content": null,
            "justify_items": null,
            "left": null,
            "margin": null,
            "max_height": null,
            "max_width": null,
            "min_height": null,
            "min_width": null,
            "object_fit": null,
            "object_position": null,
            "order": null,
            "overflow": null,
            "overflow_x": null,
            "overflow_y": null,
            "padding": null,
            "right": null,
            "top": null,
            "visibility": null,
            "width": null
          }
        },
        "0c2de3b1442445f3b570aaa1ddd33234": {
          "model_module": "@jupyter-widgets/base",
          "model_name": "LayoutModel",
          "model_module_version": "1.2.0",
          "state": {
            "_model_module": "@jupyter-widgets/base",
            "_model_module_version": "1.2.0",
            "_model_name": "LayoutModel",
            "_view_count": null,
            "_view_module": "@jupyter-widgets/base",
            "_view_module_version": "1.2.0",
            "_view_name": "LayoutView",
            "align_content": null,
            "align_items": null,
            "align_self": null,
            "border": null,
            "bottom": null,
            "display": null,
            "flex": null,
            "flex_flow": null,
            "grid_area": null,
            "grid_auto_columns": null,
            "grid_auto_flow": null,
            "grid_auto_rows": null,
            "grid_column": null,
            "grid_gap": null,
            "grid_row": null,
            "grid_template_areas": null,
            "grid_template_columns": null,
            "grid_template_rows": null,
            "height": null,
            "justify_content": null,
            "justify_items": null,
            "left": null,
            "margin": null,
            "max_height": null,
            "max_width": null,
            "min_height": null,
            "min_width": null,
            "object_fit": null,
            "object_position": null,
            "order": null,
            "overflow": null,
            "overflow_x": null,
            "overflow_y": null,
            "padding": null,
            "right": null,
            "top": null,
            "visibility": null,
            "width": null
          }
        },
        "bfbb7b621c54470fa70d6cdf8766a5c7": {
          "model_module": "@jupyter-widgets/controls",
          "model_name": "DescriptionStyleModel",
          "model_module_version": "1.5.0",
          "state": {
            "_model_module": "@jupyter-widgets/controls",
            "_model_module_version": "1.5.0",
            "_model_name": "DescriptionStyleModel",
            "_view_count": null,
            "_view_module": "@jupyter-widgets/base",
            "_view_module_version": "1.2.0",
            "_view_name": "StyleView",
            "description_width": ""
          }
        },
        "46e044a56b7b42398f046f8df02eae74": {
          "model_module": "@jupyter-widgets/base",
          "model_name": "LayoutModel",
          "model_module_version": "1.2.0",
          "state": {
            "_model_module": "@jupyter-widgets/base",
            "_model_module_version": "1.2.0",
            "_model_name": "LayoutModel",
            "_view_count": null,
            "_view_module": "@jupyter-widgets/base",
            "_view_module_version": "1.2.0",
            "_view_name": "LayoutView",
            "align_content": null,
            "align_items": null,
            "align_self": null,
            "border": null,
            "bottom": null,
            "display": null,
            "flex": null,
            "flex_flow": null,
            "grid_area": null,
            "grid_auto_columns": null,
            "grid_auto_flow": null,
            "grid_auto_rows": null,
            "grid_column": null,
            "grid_gap": null,
            "grid_row": null,
            "grid_template_areas": null,
            "grid_template_columns": null,
            "grid_template_rows": null,
            "height": null,
            "justify_content": null,
            "justify_items": null,
            "left": null,
            "margin": null,
            "max_height": null,
            "max_width": null,
            "min_height": null,
            "min_width": null,
            "object_fit": null,
            "object_position": null,
            "order": null,
            "overflow": null,
            "overflow_x": null,
            "overflow_y": null,
            "padding": null,
            "right": null,
            "top": null,
            "visibility": null,
            "width": null
          }
        },
        "288d7fdf5b454a93a4c91dd3552d5d53": {
          "model_module": "@jupyter-widgets/controls",
          "model_name": "ProgressStyleModel",
          "model_module_version": "1.5.0",
          "state": {
            "_model_module": "@jupyter-widgets/controls",
            "_model_module_version": "1.5.0",
            "_model_name": "ProgressStyleModel",
            "_view_count": null,
            "_view_module": "@jupyter-widgets/base",
            "_view_module_version": "1.2.0",
            "_view_name": "StyleView",
            "bar_color": null,
            "description_width": ""
          }
        },
        "093fbb7ecd7f4e9bb11201ea5445462e": {
          "model_module": "@jupyter-widgets/base",
          "model_name": "LayoutModel",
          "model_module_version": "1.2.0",
          "state": {
            "_model_module": "@jupyter-widgets/base",
            "_model_module_version": "1.2.0",
            "_model_name": "LayoutModel",
            "_view_count": null,
            "_view_module": "@jupyter-widgets/base",
            "_view_module_version": "1.2.0",
            "_view_name": "LayoutView",
            "align_content": null,
            "align_items": null,
            "align_self": null,
            "border": null,
            "bottom": null,
            "display": null,
            "flex": null,
            "flex_flow": null,
            "grid_area": null,
            "grid_auto_columns": null,
            "grid_auto_flow": null,
            "grid_auto_rows": null,
            "grid_column": null,
            "grid_gap": null,
            "grid_row": null,
            "grid_template_areas": null,
            "grid_template_columns": null,
            "grid_template_rows": null,
            "height": null,
            "justify_content": null,
            "justify_items": null,
            "left": null,
            "margin": null,
            "max_height": null,
            "max_width": null,
            "min_height": null,
            "min_width": null,
            "object_fit": null,
            "object_position": null,
            "order": null,
            "overflow": null,
            "overflow_x": null,
            "overflow_y": null,
            "padding": null,
            "right": null,
            "top": null,
            "visibility": null,
            "width": null
          }
        },
        "38ba514e4c8f45c29bbf67e5f517823e": {
          "model_module": "@jupyter-widgets/controls",
          "model_name": "DescriptionStyleModel",
          "model_module_version": "1.5.0",
          "state": {
            "_model_module": "@jupyter-widgets/controls",
            "_model_module_version": "1.5.0",
            "_model_name": "DescriptionStyleModel",
            "_view_count": null,
            "_view_module": "@jupyter-widgets/base",
            "_view_module_version": "1.2.0",
            "_view_name": "StyleView",
            "description_width": ""
          }
        },
        "5b57e0bb615a48338edce94afcd9fdb7": {
          "model_module": "@jupyter-widgets/controls",
          "model_name": "HBoxModel",
          "model_module_version": "1.5.0",
          "state": {
            "_dom_classes": [],
            "_model_module": "@jupyter-widgets/controls",
            "_model_module_version": "1.5.0",
            "_model_name": "HBoxModel",
            "_view_count": null,
            "_view_module": "@jupyter-widgets/controls",
            "_view_module_version": "1.5.0",
            "_view_name": "HBoxView",
            "box_style": "",
            "children": [
              "IPY_MODEL_39b34d5b379e44cbb70076f98b4cc993",
              "IPY_MODEL_e09b09181eca4ceeb1f8b30ba28bab40",
              "IPY_MODEL_848469c6415744489dff0d0133f40770"
            ],
            "layout": "IPY_MODEL_7525b69249ee4b0fbe72c495154b7477"
          }
        },
        "39b34d5b379e44cbb70076f98b4cc993": {
          "model_module": "@jupyter-widgets/controls",
          "model_name": "HTMLModel",
          "model_module_version": "1.5.0",
          "state": {
            "_dom_classes": [],
            "_model_module": "@jupyter-widgets/controls",
            "_model_module_version": "1.5.0",
            "_model_name": "HTMLModel",
            "_view_count": null,
            "_view_module": "@jupyter-widgets/controls",
            "_view_module_version": "1.5.0",
            "_view_name": "HTMLView",
            "description": "",
            "description_tooltip": null,
            "layout": "IPY_MODEL_45a6f1b2dff3446fb41c4b874cf38f22",
            "placeholder": "​",
            "style": "IPY_MODEL_fbcd137382884bb1a750e287d8088907",
            "value": "Downloading: 100%"
          }
        },
        "e09b09181eca4ceeb1f8b30ba28bab40": {
          "model_module": "@jupyter-widgets/controls",
          "model_name": "FloatProgressModel",
          "model_module_version": "1.5.0",
          "state": {
            "_dom_classes": [],
            "_model_module": "@jupyter-widgets/controls",
            "_model_module_version": "1.5.0",
            "_model_name": "FloatProgressModel",
            "_view_count": null,
            "_view_module": "@jupyter-widgets/controls",
            "_view_module_version": "1.5.0",
            "_view_name": "ProgressView",
            "bar_style": "success",
            "description": "",
            "description_tooltip": null,
            "layout": "IPY_MODEL_e59422efa16e4fe793463b36a7bca12d",
            "max": 557950280,
            "min": 0,
            "orientation": "horizontal",
            "style": "IPY_MODEL_c7ecd855df6e4dfe8f7cc33f928af56a",
            "value": 557950280
          }
        },
        "848469c6415744489dff0d0133f40770": {
          "model_module": "@jupyter-widgets/controls",
          "model_name": "HTMLModel",
          "model_module_version": "1.5.0",
          "state": {
            "_dom_classes": [],
            "_model_module": "@jupyter-widgets/controls",
            "_model_module_version": "1.5.0",
            "_model_name": "HTMLModel",
            "_view_count": null,
            "_view_module": "@jupyter-widgets/controls",
            "_view_module_version": "1.5.0",
            "_view_name": "HTMLView",
            "description": "",
            "description_tooltip": null,
            "layout": "IPY_MODEL_ee6b058d96a64db3a72d0f751fae23f9",
            "placeholder": "​",
            "style": "IPY_MODEL_828d5de279524dc78c64c306299ee055",
            "value": " 558M/558M [00:19&lt;00:00, 38.6MB/s]"
          }
        },
        "7525b69249ee4b0fbe72c495154b7477": {
          "model_module": "@jupyter-widgets/base",
          "model_name": "LayoutModel",
          "model_module_version": "1.2.0",
          "state": {
            "_model_module": "@jupyter-widgets/base",
            "_model_module_version": "1.2.0",
            "_model_name": "LayoutModel",
            "_view_count": null,
            "_view_module": "@jupyter-widgets/base",
            "_view_module_version": "1.2.0",
            "_view_name": "LayoutView",
            "align_content": null,
            "align_items": null,
            "align_self": null,
            "border": null,
            "bottom": null,
            "display": null,
            "flex": null,
            "flex_flow": null,
            "grid_area": null,
            "grid_auto_columns": null,
            "grid_auto_flow": null,
            "grid_auto_rows": null,
            "grid_column": null,
            "grid_gap": null,
            "grid_row": null,
            "grid_template_areas": null,
            "grid_template_columns": null,
            "grid_template_rows": null,
            "height": null,
            "justify_content": null,
            "justify_items": null,
            "left": null,
            "margin": null,
            "max_height": null,
            "max_width": null,
            "min_height": null,
            "min_width": null,
            "object_fit": null,
            "object_position": null,
            "order": null,
            "overflow": null,
            "overflow_x": null,
            "overflow_y": null,
            "padding": null,
            "right": null,
            "top": null,
            "visibility": null,
            "width": null
          }
        },
        "45a6f1b2dff3446fb41c4b874cf38f22": {
          "model_module": "@jupyter-widgets/base",
          "model_name": "LayoutModel",
          "model_module_version": "1.2.0",
          "state": {
            "_model_module": "@jupyter-widgets/base",
            "_model_module_version": "1.2.0",
            "_model_name": "LayoutModel",
            "_view_count": null,
            "_view_module": "@jupyter-widgets/base",
            "_view_module_version": "1.2.0",
            "_view_name": "LayoutView",
            "align_content": null,
            "align_items": null,
            "align_self": null,
            "border": null,
            "bottom": null,
            "display": null,
            "flex": null,
            "flex_flow": null,
            "grid_area": null,
            "grid_auto_columns": null,
            "grid_auto_flow": null,
            "grid_auto_rows": null,
            "grid_column": null,
            "grid_gap": null,
            "grid_row": null,
            "grid_template_areas": null,
            "grid_template_columns": null,
            "grid_template_rows": null,
            "height": null,
            "justify_content": null,
            "justify_items": null,
            "left": null,
            "margin": null,
            "max_height": null,
            "max_width": null,
            "min_height": null,
            "min_width": null,
            "object_fit": null,
            "object_position": null,
            "order": null,
            "overflow": null,
            "overflow_x": null,
            "overflow_y": null,
            "padding": null,
            "right": null,
            "top": null,
            "visibility": null,
            "width": null
          }
        },
        "fbcd137382884bb1a750e287d8088907": {
          "model_module": "@jupyter-widgets/controls",
          "model_name": "DescriptionStyleModel",
          "model_module_version": "1.5.0",
          "state": {
            "_model_module": "@jupyter-widgets/controls",
            "_model_module_version": "1.5.0",
            "_model_name": "DescriptionStyleModel",
            "_view_count": null,
            "_view_module": "@jupyter-widgets/base",
            "_view_module_version": "1.2.0",
            "_view_name": "StyleView",
            "description_width": ""
          }
        },
        "e59422efa16e4fe793463b36a7bca12d": {
          "model_module": "@jupyter-widgets/base",
          "model_name": "LayoutModel",
          "model_module_version": "1.2.0",
          "state": {
            "_model_module": "@jupyter-widgets/base",
            "_model_module_version": "1.2.0",
            "_model_name": "LayoutModel",
            "_view_count": null,
            "_view_module": "@jupyter-widgets/base",
            "_view_module_version": "1.2.0",
            "_view_name": "LayoutView",
            "align_content": null,
            "align_items": null,
            "align_self": null,
            "border": null,
            "bottom": null,
            "display": null,
            "flex": null,
            "flex_flow": null,
            "grid_area": null,
            "grid_auto_columns": null,
            "grid_auto_flow": null,
            "grid_auto_rows": null,
            "grid_column": null,
            "grid_gap": null,
            "grid_row": null,
            "grid_template_areas": null,
            "grid_template_columns": null,
            "grid_template_rows": null,
            "height": null,
            "justify_content": null,
            "justify_items": null,
            "left": null,
            "margin": null,
            "max_height": null,
            "max_width": null,
            "min_height": null,
            "min_width": null,
            "object_fit": null,
            "object_position": null,
            "order": null,
            "overflow": null,
            "overflow_x": null,
            "overflow_y": null,
            "padding": null,
            "right": null,
            "top": null,
            "visibility": null,
            "width": null
          }
        },
        "c7ecd855df6e4dfe8f7cc33f928af56a": {
          "model_module": "@jupyter-widgets/controls",
          "model_name": "ProgressStyleModel",
          "model_module_version": "1.5.0",
          "state": {
            "_model_module": "@jupyter-widgets/controls",
            "_model_module_version": "1.5.0",
            "_model_name": "ProgressStyleModel",
            "_view_count": null,
            "_view_module": "@jupyter-widgets/base",
            "_view_module_version": "1.2.0",
            "_view_name": "StyleView",
            "bar_color": null,
            "description_width": ""
          }
        },
        "ee6b058d96a64db3a72d0f751fae23f9": {
          "model_module": "@jupyter-widgets/base",
          "model_name": "LayoutModel",
          "model_module_version": "1.2.0",
          "state": {
            "_model_module": "@jupyter-widgets/base",
            "_model_module_version": "1.2.0",
            "_model_name": "LayoutModel",
            "_view_count": null,
            "_view_module": "@jupyter-widgets/base",
            "_view_module_version": "1.2.0",
            "_view_name": "LayoutView",
            "align_content": null,
            "align_items": null,
            "align_self": null,
            "border": null,
            "bottom": null,
            "display": null,
            "flex": null,
            "flex_flow": null,
            "grid_area": null,
            "grid_auto_columns": null,
            "grid_auto_flow": null,
            "grid_auto_rows": null,
            "grid_column": null,
            "grid_gap": null,
            "grid_row": null,
            "grid_template_areas": null,
            "grid_template_columns": null,
            "grid_template_rows": null,
            "height": null,
            "justify_content": null,
            "justify_items": null,
            "left": null,
            "margin": null,
            "max_height": null,
            "max_width": null,
            "min_height": null,
            "min_width": null,
            "object_fit": null,
            "object_position": null,
            "order": null,
            "overflow": null,
            "overflow_x": null,
            "overflow_y": null,
            "padding": null,
            "right": null,
            "top": null,
            "visibility": null,
            "width": null
          }
        },
        "828d5de279524dc78c64c306299ee055": {
          "model_module": "@jupyter-widgets/controls",
          "model_name": "DescriptionStyleModel",
          "model_module_version": "1.5.0",
          "state": {
            "_model_module": "@jupyter-widgets/controls",
            "_model_module_version": "1.5.0",
            "_model_name": "DescriptionStyleModel",
            "_view_count": null,
            "_view_module": "@jupyter-widgets/base",
            "_view_module_version": "1.2.0",
            "_view_name": "StyleView",
            "description_width": ""
          }
        }
      }
    }
  },
  "cells": [
    {
      "cell_type": "markdown",
      "metadata": {
        "id": "view-in-github",
        "colab_type": "text"
      },
      "source": [
        "<a href=\"https://colab.research.google.com/github/Myusuf2/Final_MIS-64061_myusuf2/blob/main/Mukhtar_Simple_hp_tune_BART_BASE.ipynb\" target=\"_parent\"><img src=\"https://colab.research.google.com/assets/colab-badge.svg\" alt=\"Open In Colab\"/></a>"
      ]
    },
    {
      "cell_type": "markdown",
      "source": [
        "**Using the transformer architecture for text summarization tasks: BART**"
      ],
      "metadata": {
        "id": "2WPXBGvOTe2x"
      }
    },
    {
      "cell_type": "markdown",
      "source": [
        "Begin by installing the transformers library (c/o HuggingFace), which we will use with tensorflow/keras, and by loading libraries and any dependencies."
      ],
      "metadata": {
        "id": "wThhwG5tVHK0"
      }
    },
    {
      "cell_type": "code",
      "source": [
        "%%capture\n",
        "!pip install -q transformers"
      ],
      "metadata": {
        "id": "0J2_W3O9U2Ez"
      },
      "execution_count": null,
      "outputs": []
    },
    {
      "cell_type": "code",
      "source": [
        "%%capture\n",
        "!pip install datasets"
      ],
      "metadata": {
        "id": "-agHvLpBw1C6"
      },
      "execution_count": null,
      "outputs": []
    },
    {
      "cell_type": "code",
      "source": [
        "%%capture\n",
        "!pip install rouge_score"
      ],
      "metadata": {
        "id": "7yAch7CUw522"
      },
      "execution_count": null,
      "outputs": []
    },
    {
      "cell_type": "code",
      "source": [
        "%%capture\n",
        "!pip install ray[tune]"
      ],
      "metadata": {
        "id": "S5Es3-6JGHnG"
      },
      "execution_count": null,
      "outputs": []
    },
    {
      "cell_type": "code",
      "execution_count": null,
      "metadata": {
        "id": "eM_Uqpm6Tble"
      },
      "outputs": [],
      "source": [
        "import pandas as pd\n",
        "import numpy as np\n",
        "import os\n",
        "import re\n",
        "import math\n",
        "import tensorflow as tf\n",
        "from tensorflow import keras\n",
        "\n",
        "\n",
        "\n",
        "import transformers\n",
        "from datasets import list_datasets, load_dataset, load_metric\n",
        "from pprint import pprint\n",
        "import rouge_score\n",
        "\n",
        "\n",
        "# seed\n",
        "seed = 42\n",
        "from tensorflow.random import set_seed\n",
        "from numpy import random\n",
        "set_seed(seed)\n",
        "random.seed(seed)"
      ]
    },
    {
      "cell_type": "markdown",
      "source": [
        "*Data: National Debate Topic for High Schools, 2013-2019.*\n",
        "\n",
        "Check to see if 'DebateSum' data is available through datasets library."
      ],
      "metadata": {
        "id": "Bz6JvawiVFWd"
      }
    },
    {
      "cell_type": "code",
      "source": [
        "# datasets = list_datasets()\n",
        "# pprint(datasets[100:200] + [f\"{len(datasets) - 100} more...\"], compact = True) # sadly no"
      ],
      "metadata": {
        "id": "DcrXcnNeVEgk"
      },
      "execution_count": null,
      "outputs": []
    },
    {
      "cell_type": "code",
      "source": [
        "from google.colab import drive\n",
        "drive.mount('/content/drive')"
      ],
      "metadata": {
        "colab": {
          "base_uri": "https://localhost:8080/"
        },
        "id": "XE26Kd2bmffG",
        "outputId": "78997435-caa6-4d1c-b9a2-48fe7acb47fe"
      },
      "execution_count": null,
      "outputs": [
        {
          "output_type": "stream",
          "name": "stdout",
          "text": [
            "Drive already mounted at /content/drive; to attempt to forcibly remount, call drive.mount(\"/content/drive\", force_remount=True).\n"
          ]
        }
      ]
    },
    {
      "cell_type": "markdown",
      "source": [
        "DebateSum is not directly callable, so we have to download the data from https://huggingface.co/datasets/Hellisotherpeople/DebateSum and load it from Google Drive."
      ],
      "metadata": {
        "id": "VPYIl8ER2pIi"
      }
    },
    {
      "cell_type": "code",
      "source": [
        "df = pd.read_csv('/content/drive/MyDrive/debate2019.csv', encoding = 'latin-1')\n",
        "df.head()"
      ],
      "metadata": {
        "id": "6rR8gNo-2J-X",
        "colab": {
          "base_uri": "https://localhost:8080/",
          "height": 838
        },
        "outputId": "979d0b3f-0465-4a36-e94c-f55515a7d3cf"
      },
      "execution_count": null,
      "outputs": [
        {
          "output_type": "execute_result",
          "data": {
            "text/plain": [
              "                                       Full-Document  \\\n",
              "0  The Trump Administration has been quietly fund...   \n",
              "1  The border between the United States and Mexic...   \n",
              "2  Today we face a planetary crisis. Environmenta...   \n",
              "3  âThey talk to me about progress, about âac...   \n",
              "4  The Zapatista movement has garnered much atten...   \n",
              "\n",
              "                                            Citation  \\\n",
              "0  Hunt 18 Edward Hunt writes about war and empir...   \n",
              "1  Monzo et al 17. Lilia D. MonzoÌ, associate pr...   \n",
              "2  Helland and Lindgren 16 Leonardo E. Figueroa H...   \n",
              "3  Lystrup 15. Lauren; University of California, ...   \n",
              "4  Lystrup 15. Lauren, University of California, ...   \n",
              "\n",
              "                                             Extract  \\\n",
              "0  The Trump Administration has been quietly fund...   \n",
              "1  The border between the United States and Mexic...   \n",
              "2  Today we face a planetary crisis. Environmenta...   \n",
              "3  They talk about progress, achievements,â dis...   \n",
              "4  The Zapatista movement garnered attention in t...   \n",
              "\n",
              "                                            Abstract  #CharsDocument  \\\n",
              "0  This file was produced by the following studen...            5041   \n",
              "1  Imperialism in Mexico is not just a one-off in...            9849   \n",
              "2  The will of dominion over Mexico is supplanted...           20340   \n",
              "3  Death is not a symptom or consequence of moder...            8774   \n",
              "4  Plan: The United States federal government sho...            6955   \n",
              "\n",
              "   #CharsAbstract  #CharsExtract  #WordsDocument  #WordsAbstract  \\\n",
              "0             147           2106             788              25   \n",
              "1             431           4481            1559              71   \n",
              "2             698           8956            2660             109   \n",
              "3             425           4818            1272              63   \n",
              "4             161           3522            1023              23   \n",
              "\n",
              "   #WordsExtract  ...  Unnamed: 94  Unnamed: 95 Unnamed: 96  Unnamed: 97  \\\n",
              "0            326  ...          NaN          NaN         NaN          NaN   \n",
              "1            693  ...          NaN          NaN         NaN          NaN   \n",
              "2           1200  ...          NaN          NaN         NaN          NaN   \n",
              "3            701  ...          NaN          NaN         NaN          NaN   \n",
              "4            510  ...          NaN          NaN         NaN          NaN   \n",
              "\n",
              "   Unnamed: 98  Unnamed: 99  Unnamed: 100  Unnamed: 101  Unnamed: 102  \\\n",
              "0          NaN          NaN           NaN           NaN           NaN   \n",
              "1          NaN          NaN           NaN           NaN           NaN   \n",
              "2          NaN          NaN           NaN           NaN           NaN   \n",
              "3          NaN          NaN           NaN           NaN           NaN   \n",
              "4          NaN          NaN           NaN           NaN           NaN   \n",
              "\n",
              "   Unnamed: 103  \n",
              "0           NaN  \n",
              "1           NaN  \n",
              "2           NaN  \n",
              "3           NaN  \n",
              "4           NaN  \n",
              "\n",
              "[5 rows x 104 columns]"
            ],
            "text/html": [
              "\n",
              "  <div id=\"df-db17da9a-9a47-45f3-9c3c-9f3f86dd90b6\">\n",
              "    <div class=\"colab-df-container\">\n",
              "      <div>\n",
              "<style scoped>\n",
              "    .dataframe tbody tr th:only-of-type {\n",
              "        vertical-align: middle;\n",
              "    }\n",
              "\n",
              "    .dataframe tbody tr th {\n",
              "        vertical-align: top;\n",
              "    }\n",
              "\n",
              "    .dataframe thead th {\n",
              "        text-align: right;\n",
              "    }\n",
              "</style>\n",
              "<table border=\"1\" class=\"dataframe\">\n",
              "  <thead>\n",
              "    <tr style=\"text-align: right;\">\n",
              "      <th></th>\n",
              "      <th>Full-Document</th>\n",
              "      <th>Citation</th>\n",
              "      <th>Extract</th>\n",
              "      <th>Abstract</th>\n",
              "      <th>#CharsDocument</th>\n",
              "      <th>#CharsAbstract</th>\n",
              "      <th>#CharsExtract</th>\n",
              "      <th>#WordsDocument</th>\n",
              "      <th>#WordsAbstract</th>\n",
              "      <th>#WordsExtract</th>\n",
              "      <th>...</th>\n",
              "      <th>Unnamed: 94</th>\n",
              "      <th>Unnamed: 95</th>\n",
              "      <th>Unnamed: 96</th>\n",
              "      <th>Unnamed: 97</th>\n",
              "      <th>Unnamed: 98</th>\n",
              "      <th>Unnamed: 99</th>\n",
              "      <th>Unnamed: 100</th>\n",
              "      <th>Unnamed: 101</th>\n",
              "      <th>Unnamed: 102</th>\n",
              "      <th>Unnamed: 103</th>\n",
              "    </tr>\n",
              "  </thead>\n",
              "  <tbody>\n",
              "    <tr>\n",
              "      <th>0</th>\n",
              "      <td>The Trump Administration has been quietly fund...</td>\n",
              "      <td>Hunt 18 Edward Hunt writes about war and empir...</td>\n",
              "      <td>The Trump Administration has been quietly fund...</td>\n",
              "      <td>This file was produced by the following studen...</td>\n",
              "      <td>5041</td>\n",
              "      <td>147</td>\n",
              "      <td>2106</td>\n",
              "      <td>788</td>\n",
              "      <td>25</td>\n",
              "      <td>326</td>\n",
              "      <td>...</td>\n",
              "      <td>NaN</td>\n",
              "      <td>NaN</td>\n",
              "      <td>NaN</td>\n",
              "      <td>NaN</td>\n",
              "      <td>NaN</td>\n",
              "      <td>NaN</td>\n",
              "      <td>NaN</td>\n",
              "      <td>NaN</td>\n",
              "      <td>NaN</td>\n",
              "      <td>NaN</td>\n",
              "    </tr>\n",
              "    <tr>\n",
              "      <th>1</th>\n",
              "      <td>The border between the United States and Mexic...</td>\n",
              "      <td>Monzo et al 17. Lilia D. MonzoÌ, associate pr...</td>\n",
              "      <td>The border between the United States and Mexic...</td>\n",
              "      <td>Imperialism in Mexico is not just a one-off in...</td>\n",
              "      <td>9849</td>\n",
              "      <td>431</td>\n",
              "      <td>4481</td>\n",
              "      <td>1559</td>\n",
              "      <td>71</td>\n",
              "      <td>693</td>\n",
              "      <td>...</td>\n",
              "      <td>NaN</td>\n",
              "      <td>NaN</td>\n",
              "      <td>NaN</td>\n",
              "      <td>NaN</td>\n",
              "      <td>NaN</td>\n",
              "      <td>NaN</td>\n",
              "      <td>NaN</td>\n",
              "      <td>NaN</td>\n",
              "      <td>NaN</td>\n",
              "      <td>NaN</td>\n",
              "    </tr>\n",
              "    <tr>\n",
              "      <th>2</th>\n",
              "      <td>Today we face a planetary crisis. Environmenta...</td>\n",
              "      <td>Helland and Lindgren 16 Leonardo E. Figueroa H...</td>\n",
              "      <td>Today we face a planetary crisis. Environmenta...</td>\n",
              "      <td>The will of dominion over Mexico is supplanted...</td>\n",
              "      <td>20340</td>\n",
              "      <td>698</td>\n",
              "      <td>8956</td>\n",
              "      <td>2660</td>\n",
              "      <td>109</td>\n",
              "      <td>1200</td>\n",
              "      <td>...</td>\n",
              "      <td>NaN</td>\n",
              "      <td>NaN</td>\n",
              "      <td>NaN</td>\n",
              "      <td>NaN</td>\n",
              "      <td>NaN</td>\n",
              "      <td>NaN</td>\n",
              "      <td>NaN</td>\n",
              "      <td>NaN</td>\n",
              "      <td>NaN</td>\n",
              "      <td>NaN</td>\n",
              "    </tr>\n",
              "    <tr>\n",
              "      <th>3</th>\n",
              "      <td>âThey talk to me about progress, about âac...</td>\n",
              "      <td>Lystrup 15. Lauren; University of California, ...</td>\n",
              "      <td>They talk about progress, achievements,â dis...</td>\n",
              "      <td>Death is not a symptom or consequence of moder...</td>\n",
              "      <td>8774</td>\n",
              "      <td>425</td>\n",
              "      <td>4818</td>\n",
              "      <td>1272</td>\n",
              "      <td>63</td>\n",
              "      <td>701</td>\n",
              "      <td>...</td>\n",
              "      <td>NaN</td>\n",
              "      <td>NaN</td>\n",
              "      <td>NaN</td>\n",
              "      <td>NaN</td>\n",
              "      <td>NaN</td>\n",
              "      <td>NaN</td>\n",
              "      <td>NaN</td>\n",
              "      <td>NaN</td>\n",
              "      <td>NaN</td>\n",
              "      <td>NaN</td>\n",
              "    </tr>\n",
              "    <tr>\n",
              "      <th>4</th>\n",
              "      <td>The Zapatista movement has garnered much atten...</td>\n",
              "      <td>Lystrup 15. Lauren, University of California, ...</td>\n",
              "      <td>The Zapatista movement garnered attention in t...</td>\n",
              "      <td>Plan: The United States federal government sho...</td>\n",
              "      <td>6955</td>\n",
              "      <td>161</td>\n",
              "      <td>3522</td>\n",
              "      <td>1023</td>\n",
              "      <td>23</td>\n",
              "      <td>510</td>\n",
              "      <td>...</td>\n",
              "      <td>NaN</td>\n",
              "      <td>NaN</td>\n",
              "      <td>NaN</td>\n",
              "      <td>NaN</td>\n",
              "      <td>NaN</td>\n",
              "      <td>NaN</td>\n",
              "      <td>NaN</td>\n",
              "      <td>NaN</td>\n",
              "      <td>NaN</td>\n",
              "      <td>NaN</td>\n",
              "    </tr>\n",
              "  </tbody>\n",
              "</table>\n",
              "<p>5 rows × 104 columns</p>\n",
              "</div>\n",
              "      <button class=\"colab-df-convert\" onclick=\"convertToInteractive('df-db17da9a-9a47-45f3-9c3c-9f3f86dd90b6')\"\n",
              "              title=\"Convert this dataframe to an interactive table.\"\n",
              "              style=\"display:none;\">\n",
              "        \n",
              "  <svg xmlns=\"http://www.w3.org/2000/svg\" height=\"24px\"viewBox=\"0 0 24 24\"\n",
              "       width=\"24px\">\n",
              "    <path d=\"M0 0h24v24H0V0z\" fill=\"none\"/>\n",
              "    <path d=\"M18.56 5.44l.94 2.06.94-2.06 2.06-.94-2.06-.94-.94-2.06-.94 2.06-2.06.94zm-11 1L8.5 8.5l.94-2.06 2.06-.94-2.06-.94L8.5 2.5l-.94 2.06-2.06.94zm10 10l.94 2.06.94-2.06 2.06-.94-2.06-.94-.94-2.06-.94 2.06-2.06.94z\"/><path d=\"M17.41 7.96l-1.37-1.37c-.4-.4-.92-.59-1.43-.59-.52 0-1.04.2-1.43.59L10.3 9.45l-7.72 7.72c-.78.78-.78 2.05 0 2.83L4 21.41c.39.39.9.59 1.41.59.51 0 1.02-.2 1.41-.59l7.78-7.78 2.81-2.81c.8-.78.8-2.07 0-2.86zM5.41 20L4 18.59l7.72-7.72 1.47 1.35L5.41 20z\"/>\n",
              "  </svg>\n",
              "      </button>\n",
              "      \n",
              "  <style>\n",
              "    .colab-df-container {\n",
              "      display:flex;\n",
              "      flex-wrap:wrap;\n",
              "      gap: 12px;\n",
              "    }\n",
              "\n",
              "    .colab-df-convert {\n",
              "      background-color: #E8F0FE;\n",
              "      border: none;\n",
              "      border-radius: 50%;\n",
              "      cursor: pointer;\n",
              "      display: none;\n",
              "      fill: #1967D2;\n",
              "      height: 32px;\n",
              "      padding: 0 0 0 0;\n",
              "      width: 32px;\n",
              "    }\n",
              "\n",
              "    .colab-df-convert:hover {\n",
              "      background-color: #E2EBFA;\n",
              "      box-shadow: 0px 1px 2px rgba(60, 64, 67, 0.3), 0px 1px 3px 1px rgba(60, 64, 67, 0.15);\n",
              "      fill: #174EA6;\n",
              "    }\n",
              "\n",
              "    [theme=dark] .colab-df-convert {\n",
              "      background-color: #3B4455;\n",
              "      fill: #D2E3FC;\n",
              "    }\n",
              "\n",
              "    [theme=dark] .colab-df-convert:hover {\n",
              "      background-color: #434B5C;\n",
              "      box-shadow: 0px 1px 3px 1px rgba(0, 0, 0, 0.15);\n",
              "      filter: drop-shadow(0px 1px 2px rgba(0, 0, 0, 0.3));\n",
              "      fill: #FFFFFF;\n",
              "    }\n",
              "  </style>\n",
              "\n",
              "      <script>\n",
              "        const buttonEl =\n",
              "          document.querySelector('#df-db17da9a-9a47-45f3-9c3c-9f3f86dd90b6 button.colab-df-convert');\n",
              "        buttonEl.style.display =\n",
              "          google.colab.kernel.accessAllowed ? 'block' : 'none';\n",
              "\n",
              "        async function convertToInteractive(key) {\n",
              "          const element = document.querySelector('#df-db17da9a-9a47-45f3-9c3c-9f3f86dd90b6');\n",
              "          const dataTable =\n",
              "            await google.colab.kernel.invokeFunction('convertToInteractive',\n",
              "                                                     [key], {});\n",
              "          if (!dataTable) return;\n",
              "\n",
              "          const docLinkHtml = 'Like what you see? Visit the ' +\n",
              "            '<a target=\"_blank\" href=https://colab.research.google.com/notebooks/data_table.ipynb>data table notebook</a>'\n",
              "            + ' to learn more about interactive tables.';\n",
              "          element.innerHTML = '';\n",
              "          dataTable['output_type'] = 'display_data';\n",
              "          await google.colab.output.renderOutput(dataTable, element);\n",
              "          const docLink = document.createElement('div');\n",
              "          docLink.innerHTML = docLinkHtml;\n",
              "          element.appendChild(docLink);\n",
              "        }\n",
              "      </script>\n",
              "    </div>\n",
              "  </div>\n",
              "  "
            ]
          },
          "metadata": {},
          "execution_count": 13
        }
      ]
    },
    {
      "cell_type": "markdown",
      "source": [
        "I kept only the core text and abstract summaries.  So we will drop all other columns to improve efficiency."
      ],
      "metadata": {
        "id": "SMvANlZ0urm6"
      }
    },
    {
      "cell_type": "code",
      "source": [
        "list(df.columns)\n",
        "\n",
        "df = df.drop(['Citation','Full-Document','#CharsDocument','#CharsAbstract','#CharsExtract',\n",
        "              '#WordsDocument','#WordsAbstract','#WordsExtract','AbsCompressionRatio',\n",
        "              'ExtCompressionRatio','OriginalDebateFileName'], axis = 1)\n"
      ],
      "metadata": {
        "id": "INPRcekz3-BN"
      },
      "execution_count": null,
      "outputs": []
    },
    {
      "cell_type": "markdown",
      "source": [
        "The purpose of this project is to train a model that summarizes the core debate texts with respectable accuracy, in this case relative to each abstract summary."
      ],
      "metadata": {
        "id": "CLM_TkKD1PpV"
      }
    },
    {
      "cell_type": "markdown",
      "source": [
        "There are dozens of pre-existing transformers that we can build our text summarizer on, see full list here: https://huggingface.co/models\n",
        "\n",
        "I used the BartTokenizerFast and the TFBartForConditionalGeneration.\n",
        "\n"
      ],
      "metadata": {
        "id": "PfUSRTURuE2M"
      }
    },
    {
      "cell_type": "code",
      "source": [
        "from transformers import BartTokenizerFast, TFBartForConditionalGeneration\n",
        "\n",
        "tokenizer = BartTokenizerFast.from_pretrained('facebook/bart-base') # case sensitive\n",
        "tfbartmodel = TFBartForConditionalGeneration.from_pretrained('facebook/bart-base') "
      ],
      "metadata": {
        "colab": {
          "base_uri": "https://localhost:8080/",
          "height": 246,
          "referenced_widgets": [
            "ddb8fa24185c4336ad36d5caf4b8696c",
            "2ce4d0c5aef4478e865dc0e6e9261c90",
            "8ee65f35acdd485689ef013e77619add",
            "bacdc6752abd432ca085a9c56ac6a633",
            "f81053accb694a0fb068c7e8d182013f",
            "c857ec34835a4015a6a752fb74d5f4eb",
            "4a28391cfcd648e0a574fe5a05b59c15",
            "c8c6f2a00ba44b35952fba778cc06cec",
            "78270c9f9e6d4c5ba9e675bef2004364",
            "6b6009fcd32446e69873086d8abd22f6",
            "38b5e8025f79416e8dc1744b80de1e44",
            "4269b9faa981474883077785906ee05c",
            "1437768c2e4b4ad48c8ff82fdf4afa21",
            "51cc5a53485f47499d64ae520b8eb22e",
            "3725ace7068447128842ceb3e1601e5f",
            "b67dc83e9f4144899766b99706bf4b94",
            "43636ae456364ababd4321596195c68f",
            "4241b634d2d24af39784effa0eb2b305",
            "7dbe9b4be01842738a500ff9eac1c3cb",
            "101d4b88daed4db7a8fb022e18028b33",
            "0ad2f07729a34776ac4455e7b5d16791",
            "fbb0e8b2448e469cb9ad8cadb6f3ebbe",
            "add2bed70cfa458f95daf91817ee67d5",
            "7f0683e524b240cdbd0f316b9f22382c",
            "52b7c2a5b2974d26b1a4385b4c4b05dd",
            "173b9e656daa4deb9f12bca7283d525d",
            "35146cc33f1049b7a89555b457974f84",
            "98ffd73b3f7b47d297263cb31a159833",
            "dba87ab287c24608ba001c5fa93c4481",
            "103c1a4de21243b1a1d16b94863e71ea",
            "111f2ee84cd4496e87fa8933bbba090c",
            "9c4b8d1b870344919e48197d86bde5fa",
            "52c6ecdf22964169ba281e02a6426543",
            "92a3e6cb27d5409782acb54bf24c2885",
            "f037f2167fde4cc3979b23f6d2625cd4",
            "4edbad86420741f3b452dbcbb88bfa0c",
            "a800894d6a13436e9df93b4d282ac006",
            "17695b55bee7411998b37ba0f9dd9f1c",
            "0c2de3b1442445f3b570aaa1ddd33234",
            "bfbb7b621c54470fa70d6cdf8766a5c7",
            "46e044a56b7b42398f046f8df02eae74",
            "288d7fdf5b454a93a4c91dd3552d5d53",
            "093fbb7ecd7f4e9bb11201ea5445462e",
            "38ba514e4c8f45c29bbf67e5f517823e",
            "5b57e0bb615a48338edce94afcd9fdb7",
            "39b34d5b379e44cbb70076f98b4cc993",
            "e09b09181eca4ceeb1f8b30ba28bab40",
            "848469c6415744489dff0d0133f40770",
            "7525b69249ee4b0fbe72c495154b7477",
            "45a6f1b2dff3446fb41c4b874cf38f22",
            "fbcd137382884bb1a750e287d8088907",
            "e59422efa16e4fe793463b36a7bca12d",
            "c7ecd855df6e4dfe8f7cc33f928af56a",
            "ee6b058d96a64db3a72d0f751fae23f9",
            "828d5de279524dc78c64c306299ee055"
          ]
        },
        "id": "yym-67GnuAob",
        "outputId": "7cc47b2f-fe7f-46f1-98d8-ccf93f68e7f6"
      },
      "execution_count": null,
      "outputs": [
        {
          "output_type": "display_data",
          "data": {
            "text/plain": [
              "Downloading:   0%|          | 0.00/899k [00:00<?, ?B/s]"
            ],
            "application/vnd.jupyter.widget-view+json": {
              "version_major": 2,
              "version_minor": 0,
              "model_id": "ddb8fa24185c4336ad36d5caf4b8696c"
            }
          },
          "metadata": {}
        },
        {
          "output_type": "display_data",
          "data": {
            "text/plain": [
              "Downloading:   0%|          | 0.00/456k [00:00<?, ?B/s]"
            ],
            "application/vnd.jupyter.widget-view+json": {
              "version_major": 2,
              "version_minor": 0,
              "model_id": "4269b9faa981474883077785906ee05c"
            }
          },
          "metadata": {}
        },
        {
          "output_type": "display_data",
          "data": {
            "text/plain": [
              "Downloading:   0%|          | 0.00/1.36M [00:00<?, ?B/s]"
            ],
            "application/vnd.jupyter.widget-view+json": {
              "version_major": 2,
              "version_minor": 0,
              "model_id": "add2bed70cfa458f95daf91817ee67d5"
            }
          },
          "metadata": {}
        },
        {
          "output_type": "display_data",
          "data": {
            "text/plain": [
              "Downloading:   0%|          | 0.00/1.72k [00:00<?, ?B/s]"
            ],
            "application/vnd.jupyter.widget-view+json": {
              "version_major": 2,
              "version_minor": 0,
              "model_id": "92a3e6cb27d5409782acb54bf24c2885"
            }
          },
          "metadata": {}
        },
        {
          "output_type": "display_data",
          "data": {
            "text/plain": [
              "Downloading:   0%|          | 0.00/558M [00:00<?, ?B/s]"
            ],
            "application/vnd.jupyter.widget-view+json": {
              "version_major": 2,
              "version_minor": 0,
              "model_id": "5b57e0bb615a48338edce94afcd9fdb7"
            }
          },
          "metadata": {}
        },
        {
          "output_type": "stream",
          "name": "stderr",
          "text": [
            "All model checkpoint layers were used when initializing TFBartForConditionalGeneration.\n",
            "\n",
            "All the layers of TFBartForConditionalGeneration were initialized from the model checkpoint at facebook/bart-base.\n",
            "If your task is similar to the task the model of the checkpoint was trained on, you can already use TFBartForConditionalGeneration for predictions without further training.\n"
          ]
        }
      ]
    },
    {
      "cell_type": "markdown",
      "source": [
        "I began by using these configurations "
      ],
      "metadata": {
        "id": "Y9WMasO5Mfaa"
      }
    },
    {
      "cell_type": "code",
      "source": [
        "tf.config.optimizer.set_experimental_options({\"auto_mixed_precision\": True})\n",
        "\n",
        "\n",
        "config = {'pretrained' : 'facebook/bart-base',\n",
        "          'batch_size' : 4,\n",
        "          'max_lr': 2e-5,\n",
        "          'epochs' : 1,\n",
        "          'tok_input' : {'padding' : 'max_length',\n",
        "                         'truncation' : True,\n",
        "                         'max_length' : 1024,\n",
        "                         'add_special_tokens' : True,\n",
        "                         'return_tensors' : 'tf',\n",
        "                         'is_split_into_words' : False,\n",
        "                         'return_offsets_mapping' : False},\n",
        "          \n",
        "          'tok_output' : {'padding' : 'max_length',\n",
        "                          'truncation' : True,\n",
        "                          'max_length' : 512,\n",
        "                          'add_special_tokens' : True,\n",
        "                          'return_tensors' : 'tf',\n",
        "                          'is_split_into_words' : False,\n",
        "                          'return_offsets_mapping' : False},\n",
        "         }\n"
      ],
      "metadata": {
        "id": "xXo-wq0ZDVaM"
      },
      "execution_count": null,
      "outputs": []
    },
    {
      "cell_type": "markdown",
      "source": [
        "Now that our data and tokenizers are prepped, must encode data into the input ID and attention mask arrays (2 total)."
      ],
      "metadata": {
        "id": "_geB5JXP4--c"
      }
    },
    {
      "cell_type": "markdown",
      "source": [
        "*Object-oriented programming (OOP) pipeline*"
      ],
      "metadata": {
        "id": "Ms8awra_HSDk"
      }
    },
    {
      "cell_type": "code",
      "source": [
        "# Sklearn\n",
        "from sklearn.model_selection import StratifiedShuffleSplit, ShuffleSplit\n",
        "\n",
        "class Dataset:\n",
        "\n",
        "      def __init__(self) :\n",
        "        self.data = df\n",
        "        self.tokenizer = tokenizer\n",
        "\n",
        "      def _split(self):\n",
        "        self.data['fold'] = 0\n",
        "        ss = ShuffleSplit(n_splits = 1, test_size = 0.1, random_state = seed)\n",
        "        for t_, v_ in ss.split(self.data): \n",
        "            self.data['fold'].iloc[t_] = 1\n",
        "      \n",
        "      def _tokenize(self, i):\n",
        "        x = self.tokenizer(self.data[self.data['fold'] == i]['Extract'].values.tolist(), \n",
        "                           **config['tok_input'])  \n",
        "        \n",
        "        y = self.tokenizer(self.data[self.data['fold'] == i]['Abstract'].values.tolist(), \n",
        "                           **config['tok_output'])\n",
        "        \n",
        "        return ({'input_ids': x['input_ids'],\n",
        "                'attention_mask' : x['attention_mask'],\n",
        "                'decoder_attention_mask' : y['attention_mask']}, y['input_ids'])\n",
        "      \n",
        "      def _to_tf(self, ds):\n",
        "        return tf.data.Dataset.from_tensor_slices(ds).batch(config['batch_size']) \\\n",
        "                                                     .prefetch(1)\n",
        "                                                     \n",
        "      def get(self) :\n",
        "        self._split()\n",
        "        trainset = self._tokenize(1)\n",
        "        valset = self._tokenize(0)\n",
        "        \n",
        "        return (self._to_tf(trainset),\n",
        "                self._to_tf(valset))\n",
        "      \n"
      ],
      "metadata": {
        "id": "oXZ7bu7W4oI5"
      },
      "execution_count": null,
      "outputs": []
    },
    {
      "cell_type": "code",
      "source": [
        "trainset, valset = Dataset().get()"
      ],
      "metadata": {
        "id": "V1AvvCgJFi_N",
        "colab": {
          "base_uri": "https://localhost:8080/"
        },
        "outputId": "f6d6eab2-330d-4af4-c18c-bc3b8e604783"
      },
      "execution_count": null,
      "outputs": [
        {
          "output_type": "stream",
          "name": "stderr",
          "text": [
            "/usr/local/lib/python3.8/dist-packages/pandas/core/indexing.py:1732: SettingWithCopyWarning: \n",
            "A value is trying to be set on a copy of a slice from a DataFrame\n",
            "\n",
            "See the caveats in the documentation: https://pandas.pydata.org/pandas-docs/stable/user_guide/indexing.html#returning-a-view-versus-a-copy\n",
            "  self._setitem_single_block(indexer, value, name)\n"
          ]
        }
      ]
    },
    {
      "cell_type": "markdown",
      "source": [
        "*Alternative pipeline: functional programming*"
      ],
      "metadata": {
        "id": "IYqazPPtHH3k"
      }
    },
    {
      "cell_type": "code",
      "source": [
        "# input_len = 512 # choose this value\n",
        "\n",
        "# output_len = 256\n",
        "\n",
        "# abs = df['Abstract'].values  #\n",
        "# labels = abs  # initialize label array\n",
        "\n",
        "\n",
        "# def tokenize(sentence, in_out_len):\n",
        "#   tokens = tokenizer.encode_plus('sentence', max_length = in_out_len, truncation = True,\n",
        "#                                   pad_to_max_length = True, add_special_tokens = True,\n",
        "#                                   return_attention_mask = True, return_token_type_ids = False, is_split_into_words = False,\n",
        "#                                   return_tensors='tf', return_offsets_mapping = False)\n",
        "#   return tokens['input_ids'], tokens['attention_mask']\n",
        "\n",
        "\n",
        "\n",
        "#   for ele, sentence in enumerate(df['Extract']):\n",
        "#   ids[ele,:], mask[ele,:] = tokenize(sentence, input_len)\n",
        "\n",
        "\n",
        "#   dftf = tf.data.Dataset.from_tensor_slices((ids, mask, labels))\n",
        "\n",
        "# # restructure dataset format for BERT\n",
        "# def map_func(input_ids, masks, labels):\n",
        "#     return {'input_ids': input_ids, 'attention_mask': masks}, labels\n",
        "  \n",
        "# dftf = dftf.map(map_func)  # apply the mapping function\n",
        "\n",
        "\n",
        "# dftf = dftf.shuffle(1000).batch(4)\n",
        "\n",
        "# df_len = len(list(dftf))\n",
        "\n",
        "# split = .90\n",
        "\n",
        "# train = dftf.take(round(df_len*split))\n",
        "# val = dftf.skip(round(df_len*split))\n"
      ],
      "metadata": {
        "id": "FA3dETwmAurx"
      },
      "execution_count": null,
      "outputs": []
    },
    {
      "cell_type": "markdown",
      "source": [
        "*Model development*"
      ],
      "metadata": {
        "id": "mfYgzmsS8CBR"
      }
    },
    {
      "cell_type": "code",
      "source": [
        "keras.backend.clear_session()\n",
        "\n",
        "class Bart(keras.Model):\n",
        "    def __init__(self):\n",
        "        super(Bart, self).__init__()\n",
        "        self.model = TFBartForConditionalGeneration.from_pretrained(config['pretrained'], \n",
        "                                                                   return_dict = True)\n",
        "        \n",
        "    def call(self, inputs, training = False):\n",
        "        x, y = inputs\n",
        "        outputs = self.model(input_ids = x['input_ids'], \n",
        "                             attention_mask = x['attention_mask'], \n",
        "                             labels = y, \n",
        "                             decoder_attention_mask = x['decoder_attention_mask'])\n",
        "        return outputs.loss, outputs.logits\n",
        "    \n",
        "    \n",
        "    def train_step(self, data):\n",
        "        with tf.GradientTape() as tape:\n",
        "            loss, logits = self(data, training=True)\n",
        "\n",
        "        trainable_vars = self.trainable_variables\n",
        "        gradients = tape.gradient(loss, trainable_vars)\n",
        "        self.optimizer.apply_gradients(zip(gradients, trainable_vars))\n",
        "\n",
        "        _lr = self.optimizer.lr\n",
        "        return {\"loss\": tf.reduce_mean(loss), 'lr' : _lr}\n",
        "    \n",
        "    \n",
        "    def test_step(self, data):\n",
        "        with tf.GradientTape() as tape:\n",
        "            loss, logits = self(data, training=False)\n",
        "        \n",
        "        return {\"loss\": tf.reduce_mean(loss)}"
      ],
      "metadata": {
        "id": "Glh09kR2PcaH"
      },
      "execution_count": null,
      "outputs": []
    },
    {
      "cell_type": "code",
      "source": [
        "bart = Bart()\n",
        "bart.compile(optimizer = keras.optimizers.Adam(1e-5))"
      ],
      "metadata": {
        "colab": {
          "base_uri": "https://localhost:8080/"
        },
        "id": "FiC67P0fPkQz",
        "outputId": "0b2af5d2-60a0-490f-bb72-c82efee2542f"
      },
      "execution_count": null,
      "outputs": [
        {
          "output_type": "stream",
          "name": "stderr",
          "text": [
            "All model checkpoint layers were used when initializing TFBartForConditionalGeneration.\n",
            "\n",
            "All the layers of TFBartForConditionalGeneration were initialized from the model checkpoint at facebook/bart-base.\n",
            "If your task is similar to the task the model of the checkpoint was trained on, you can already use TFBartForConditionalGeneration for predictions without further training.\n"
          ]
        }
      ]
    },
    {
      "cell_type": "code",
      "source": [
        "K = keras.backend\n",
        "\n",
        "class OneCycleLr(keras.callbacks.Callback):\n",
        "    def __init__(self,\n",
        "                 max_lr: float,\n",
        "                 total_steps: int = None,\n",
        "                 epochs: int = None,\n",
        "                 steps_per_epoch: int = None,\n",
        "                 pct_start: float = 0.3,\n",
        "                 anneal_strategy: str = \"cos\",\n",
        "                 cycle_momentum: bool = True,\n",
        "                 base_momentum: float = 0.85,\n",
        "                 max_momentum: float = 0.95,\n",
        "                 div_factor: float = 25.0,\n",
        "                 final_div_factor: float = 1e4):\n",
        "\n",
        "        super(OneCycleLr, self).__init__()\n",
        "\n",
        "        # validate total steps:\n",
        "        if total_steps :\n",
        "            self.total_steps = total_steps\n",
        "        else:\n",
        "            self.total_steps = epochs * steps_per_epoch\n",
        "\n",
        "        self.step_num = 0\n",
        "        self.step_size_up = float(pct_start * self.total_steps) - 1\n",
        "        self.step_size_down = float(self.total_steps - self.step_size_up) - 1\n",
        "\n",
        "        # Validate pct_start\n",
        "        if anneal_strategy == \"cos\":\n",
        "            self.anneal_func = self._annealing_cos\n",
        "        elif anneal_strategy == \"linear\":\n",
        "            self.anneal_func = self._annealing_linear\n",
        "\n",
        "        # Initialize learning rate variables\n",
        "        self.initial_lr = max_lr / div_factor\n",
        "        self.max_lr = max_lr\n",
        "        self.min_lr = self.initial_lr / final_div_factor\n",
        "\n",
        "        # Initial momentum variables\n",
        "        self.cycle_momentum = cycle_momentum\n",
        "        if self.cycle_momentum:\n",
        "            self.m_momentum = max_momentum\n",
        "            self.momentum = max_momentum\n",
        "            self.b_momentum = base_momentum\n",
        "\n",
        "        # Initialize variable to learning_rate & momentum\n",
        "        self.track_lr = []\n",
        "        self.track_mom = []\n",
        "\n",
        "    def _annealing_cos(self, start, end, pct):\n",
        "        cos_out = math.cos(math.pi * pct) + 1\n",
        "        return end + (start - end) / 2.0 * cos_out\n",
        "\n",
        "    def _annealing_linear(self, start, end, pct):\n",
        "        return (end - start) * pct + start\n",
        "\n",
        "    def set_lr_mom(self):\n",
        "        if self.step_num <= self.step_size_up:\n",
        "            # update learining rate\n",
        "            computed_lr = self.anneal_func(self.initial_lr, self.max_lr, self.step_num / self.step_size_up)\n",
        "            K.set_value(self.model.optimizer.lr, computed_lr)\n",
        "            # update momentum if cycle_momentum\n",
        "            if self.cycle_momentum:\n",
        "                computed_momentum = self.anneal_func(self.m_momentum, self.b_momentum, self.step_num / self.step_size_up)\n",
        "                try:\n",
        "                    K.set_value(self.model.optimizer.momentum,\n",
        "                                computed_momentum)\n",
        "                except:\n",
        "                    K.set_value(self.model.optimizer.beta_1, computed_momentum)\n",
        "        else:\n",
        "            down_step_num = self.step_num - self.step_size_up\n",
        "            # update learning rate\n",
        "            computed_lr = self.anneal_func(self.max_lr, self.min_lr, down_step_num / self.step_size_down)\n",
        "            K.set_value(self.model.optimizer.lr, computed_lr)\n",
        "            # update momentum if cycle_momentum\n",
        "            if self.cycle_momentum:\n",
        "                computed_momentum = self.anneal_func(self.b_momentum, self.m_momentum, down_step_num / self.step_size_down)\n",
        "                try:\n",
        "                    K.set_value(self.model.optimizer.momentum,\n",
        "                                computed_momentum)\n",
        "                except:\n",
        "                    K.set_value(self.model.optimizer.beta_1, computed_momentum)\n",
        "\n",
        "    def on_train_begin(self, logs=None):\n",
        "        # Set initial learning rate & momentum values\n",
        "        K.set_value(self.model.optimizer.lr, self.initial_lr)\n",
        "        if self.cycle_momentum:\n",
        "            try:\n",
        "                K.set_value(self.model.optimizer.momentum, self.momentum)\n",
        "            except:\n",
        "                K.set_value(self.model.optimizer.beta_1, self.momentum)\n",
        "\n",
        "    def on_train_batch_end(self, batch, logs=None):\n",
        "        # Grab the current learning rate & momentum\n",
        "        lr = float(K.get_value(self.model.optimizer.lr))\n",
        "        try:\n",
        "            mom = float(K.get_value(self.model.optimizer.momentum))\n",
        "        except:\n",
        "            mom = float(K.get_value(self.model.optimizer.beta_1))\n",
        "        # Append to the list\n",
        "        self.track_lr.append(lr)\n",
        "        self.track_mom.append(mom)\n",
        "        # Update learning rate & momentum\n",
        "        self.set_lr_mom()\n",
        "        # increment step_num\n",
        "        self.step_num += 1"
      ],
      "metadata": {
        "id": "YgAPFxdWQGiV"
      },
      "execution_count": null,
      "outputs": []
    },
    {
      "cell_type": "code",
      "source": [
        "scheduler = OneCycleLr(max_lr=config['max_lr'], \n",
        "                       steps_per_epoch=trainset.cardinality().numpy(), \n",
        "                       epochs=config['epochs'])\n",
        "\n",
        "checkpoint = keras.callbacks.ModelCheckpoint(filepath = '/content/drive/MyDrive/ckpt_bart',\n",
        "                                             save_best_only = True,\n",
        "                                             save_weights_only = True)\n",
        "\n",
        "early = keras.callbacks.EarlyStopping(patience = 2, restore_best_weights=True)"
      ],
      "metadata": {
        "id": "KF_U0jnIQP7E"
      },
      "execution_count": null,
      "outputs": []
    },
    {
      "cell_type": "markdown",
      "source": [
        "*Training*"
      ],
      "metadata": {
        "id": "fat-cjiyokK9"
      }
    },
    {
      "cell_type": "code",
      "source": [
        "bart.fit(trainset,\n",
        "         validation_data = valset,\n",
        "         epochs = config['epochs'],\n",
        "         callbacks = [early,scheduler]) "
      ],
      "metadata": {
        "colab": {
          "base_uri": "https://localhost:8080/"
        },
        "id": "fXaOKYWvQUbl",
        "outputId": "2fcc5cb7-b778-406a-8a46-256bb420aac3"
      },
      "execution_count": null,
      "outputs": [
        {
          "output_type": "stream",
          "name": "stdout",
          "text": [
            "4288/4288 [==============================] - 655s 146ms/step - loss: 3.3668 - lr: 1.0116e-05 - val_loss: 2.5092\n"
          ]
        },
        {
          "output_type": "execute_result",
          "data": {
            "text/plain": [
              "<keras.callbacks.History at 0x7f94fe9f4430>"
            ]
          },
          "metadata": {},
          "execution_count": 80
        }
      ]
    },
    {
      "cell_type": "markdown",
      "source": [
        "*Testing*"
      ],
      "metadata": {
        "id": "Rf_QGT-Dop98"
      }
    },
    {
      "cell_type": "code",
      "source": [
        "# Solved bug by downloading the config.json and tf_model.h5 files from hugging face repo and saving them in Google Drive folder w path Stat Consulting > RTE\n",
        "\n",
        "class TextSummarization():\n",
        "  def __init__(self, pretrained, tok, beam, temperature):\n",
        "\n",
        "    self.model = Bart().model.from_pretrained(pretrained)\n",
        "    self.tokenizer = BartTokenizerFast.from_pretrained(tok)\n",
        "    self.beam = beam\n",
        "    self.temperature = temperature\n",
        "\n",
        "  def generate(self, text):\n",
        "    text = self.tokenizer(text, **config['tok_input']).input_ids\n",
        "    tokens = self.model.generate(text,\n",
        "                                 min_length = 0,\n",
        "                                 max_length = 128,\n",
        "                                 num_beams = self.beam,\n",
        "                                 temperature = self.temperature,\n",
        "                                 do_sample = True,\n",
        "                                 repetition_penalty = 2.5,\n",
        "                                 length_penalty = 1,\n",
        "                                 early_stopping = True).numpy()[0]\n",
        "    return self.tokenizer.decode(tokens, skip_special_tokens = True)\n",
        "\n",
        "  def post_processing(self, text):\n",
        "    text = text[:text.rfind('.')+1]\n",
        "    return re.sub(\"[\\(\\[].*?[\\)\\]]\", \"\", text)\n",
        "\n",
        "  def summarize(self, text):\n",
        "    text = self.generate(text)\n",
        "    text = self.post_processing(text)\n",
        "    return text\n",
        "\n",
        "ts = TextSummarization(pretrained = '/content/drive/MyDrive/RTE', tok = 'facebook/bart-base',beam = 5, temperature = 1.2)\n",
        "\n"
      ],
      "metadata": {
        "colab": {
          "base_uri": "https://localhost:8080/"
        },
        "id": "RzSX4D-qoFz5",
        "outputId": "28f60aef-fdba-4f04-870e-bdeb3664ac4b"
      },
      "execution_count": null,
      "outputs": [
        {
          "output_type": "stream",
          "name": "stderr",
          "text": [
            "All model checkpoint layers were used when initializing TFBartForConditionalGeneration.\n",
            "\n",
            "All the layers of TFBartForConditionalGeneration were initialized from the model checkpoint at facebook/bart-base.\n",
            "If your task is similar to the task the model of the checkpoint was trained on, you can already use TFBartForConditionalGeneration for predictions without further training.\n",
            "All model checkpoint layers were used when initializing TFBartForConditionalGeneration.\n",
            "\n",
            "All the layers of TFBartForConditionalGeneration were initialized from the model checkpoint at /content/drive/MyDrive/Statistical Consulting/RTE.\n",
            "If your task is similar to the task the model of the checkpoint was trained on, you can already use TFBartForConditionalGeneration for predictions without further training.\n"
          ]
        }
      ]
    },
    {
      "cell_type": "code",
      "source": [
        "\n",
        "data = df\n",
        "id_doc = 14272\n",
        "\n",
        "summary = ts.summarize(data['Extract'].values.tolist()[id_doc])\n"
      ],
      "metadata": {
        "id": "r0NtYNBdDa4t"
      },
      "execution_count": null,
      "outputs": []
    },
    {
      "cell_type": "code",
      "source": [
        "def compute_rouge(id_doc, prediction):\n",
        "    rouge = load_metric(\"rouge\")\n",
        "    rouge.add(reference = df['Abstract'].values.tolist()[id_doc], prediction = summary)\n",
        "    score_abs = rouge.compute()['rougeL']\n",
        "    rouge = load_metric(\"rouge\")\n",
        "    rouge.add(reference = df['Extract'].values.tolist()[id_doc], prediction = summary)\n",
        "    score_ext = rouge.compute()['rougeL']\n",
        "    return score_abs.mid, score_ext.mid\n",
        "\n",
        "def compute_bleu(id_doc, prediction):\n",
        "    bleu = load_metric(\"bleu\")\n",
        "    score_abs = bleu.compute(predictions=df['Abstract'].values.tolist()[id_doc].split(), \n",
        "                             references=[[summary.split()]], max_order = 1)['bleu']\n",
        "    bleu = load_metric(\"bleu\")\n",
        "    score_ext = bleu.compute(predictions=[df['Extract'].values.tolist()[id_doc].split()], \n",
        "                             references=[[summary.split()]], max_order = 1)['bleu']\n",
        "    return score_abs, score_ext"
      ],
      "metadata": {
        "id": "EBGMAhLXBb7R"
      },
      "execution_count": null,
      "outputs": []
    },
    {
      "cell_type": "code",
      "source": [
        "abs, ext = compute_rouge(id_doc, summary)\n",
        "print('Score on Abstract :', abs)\n",
        "print('Score on Extract :', ext)"
      ],
      "metadata": {
        "colab": {
          "base_uri": "https://localhost:8080/"
        },
        "id": "e030a1xAFOCf",
        "outputId": "96bfcef4-f6f9-4381-8cfc-2b9c4b75e320"
      },
      "execution_count": null,
      "outputs": [
        {
          "output_type": "stream",
          "name": "stdout",
          "text": [
            "Score on Abstract : Score(precision=0.024390243902439025, recall=0.07692307692307693, fmeasure=0.03703703703703704)\n",
            "Score on Extract : Score(precision=0.7804878048780488, recall=0.14479638009049775, fmeasure=0.24427480916030533)\n"
          ]
        }
      ]
    },
    {
      "cell_type": "markdown",
      "source": [
        "Will use the ray[tune] library to tune hyperparameters.  Here is an example of the pipeline, which needs additional integration into the model workflow to work properly.  The objective will be to maximize our metric(s) of interest (e.g., score_abs and score_ext).  We will define a range of values to select from for each parameter of interest, in this case batch size for each model and max_length for the input and output configurations."
      ],
      "metadata": {
        "id": "AhSY_CI13UJ_"
      }
    },
    {
      "cell_type": "code",
      "source": [
        "\n",
        "\n",
        "\n",
        "from ray import tune\n",
        "\n",
        "# 1. Define an objective function.\n",
        "def objective(config):\n",
        "    score = compute_rouge(id_doc, summary)\n",
        "    return {\"score\": score}\n",
        "\n",
        "\n",
        "# 2. Define a search space.\n",
        "search_space = {\n",
        "    'tok_input' : {'max_length': tune.choice([4096, 2048, 1024, 512])},\n",
        "    'tok_output': {'max_length': tune.choice([2048, 1024, 512, 256])}\n",
        "\n",
        "}\n",
        "\n",
        "# 3. Start a Tune run and print the best result.\n",
        "tuner = tune.Tuner(objective, param_space=search_space)\n",
        "results = tuner.fit()\n",
        "print(results.get_best_result(metric=\"score\", mode=\"max\").config)"
      ],
      "metadata": {
        "colab": {
          "base_uri": "https://localhost:8080/",
          "height": 403
        },
        "id": "5D0VZfywFade",
        "outputId": "665c0e67-999d-46b1-c342-3d4586b20752"
      },
      "execution_count": null,
      "outputs": [
        {
          "output_type": "display_data",
          "data": {
            "text/plain": [
              "<IPython.core.display.HTML object>"
            ],
            "text/html": [
              "<div class=\"tuneStatus\">\n",
              "  <div style=\"display: flex;flex-direction: row\">\n",
              "    <div style=\"display: flex;flex-direction: column;\">\n",
              "      <h3>Tune Status</h3>\n",
              "      <table>\n",
              "<tbody>\n",
              "<tr><td>Current time:</td><td>2022-12-07 01:33:43</td></tr>\n",
              "<tr><td>Running for: </td><td>00:00:04.73        </td></tr>\n",
              "<tr><td>Memory:      </td><td>5.8/83.5 GiB       </td></tr>\n",
              "</tbody>\n",
              "</table>\n",
              "    </div>\n",
              "    <div class=\"vDivider\"></div>\n",
              "    <div class=\"systemInfo\">\n",
              "      <h3>System Info</h3>\n",
              "      Using FIFO scheduling algorithm.<br>Resources requested: 0/12 CPUs, 0/1 GPUs, 0.0/49.63 GiB heap, 0.0/24.82 GiB objects\n",
              "    </div>\n",
              "    \n",
              "  </div>\n",
              "  <div class=\"hDivider\"></div>\n",
              "  <div class=\"trialStatus\">\n",
              "    <h3>Trial Status</h3>\n",
              "    <table>\n",
              "<thead>\n",
              "<tr><th>Trial name           </th><th>status    </th><th>loc             </th><th style=\"text-align: right;\">  tok_input/max_length</th><th style=\"text-align: right;\">    tok_output/max_lengt\n",
              "h</th><th style=\"text-align: right;\">  iter</th><th style=\"text-align: right;\">  total time (s)</th></tr>\n",
              "</thead>\n",
              "<tbody>\n",
              "<tr><td>objective_2c7a7_00000</td><td>TERMINATED</td><td>172.28.0.12:3063</td><td style=\"text-align: right;\">                  1024</td><td style=\"text-align: right;\">256</td><td style=\"text-align: right;\">     1</td><td style=\"text-align: right;\">         1.30949</td></tr>\n",
              "</tbody>\n",
              "</table>\n",
              "  </div>\n",
              "</div>\n",
              "<style>\n",
              ".tuneStatus {\n",
              "  color: var(--jp-ui-font-color1);\n",
              "}\n",
              ".tuneStatus .systemInfo {\n",
              "  display: flex;\n",
              "  flex-direction: column;\n",
              "}\n",
              ".tuneStatus td {\n",
              "  white-space: nowrap;\n",
              "}\n",
              ".tuneStatus .trialStatus {\n",
              "  display: flex;\n",
              "  flex-direction: column;\n",
              "}\n",
              ".tuneStatus h3 {\n",
              "  font-weight: bold;\n",
              "}\n",
              ".tuneStatus .hDivider {\n",
              "  border-bottom-width: var(--jp-border-width);\n",
              "  border-bottom-color: var(--jp-border-color0);\n",
              "  border-bottom-style: solid;\n",
              "}\n",
              ".tuneStatus .vDivider {\n",
              "  border-left-width: var(--jp-border-width);\n",
              "  border-left-color: var(--jp-border-color0);\n",
              "  border-left-style: solid;\n",
              "  margin: 0.5em 1em 0.5em 1em;\n",
              "}\n",
              "</style>\n"
            ]
          },
          "metadata": {}
        },
        {
          "output_type": "stream",
          "name": "stderr",
          "text": [
            "2022-12-07 01:33:39,481\tWARNING worker.py:1839 -- Warning: The actor ImplicitFunc is very large (29 MiB). Check that its definition is not implicitly capturing a large array or other object in scope. Tip: use ray.put() to put large objects in the Ray object store.\n",
            "2022-12-07 01:33:39,534\tWARNING util.py:244 -- The `start_trial` operation took 0.580 s, which may be a performance bottleneck.\n",
            "\u001b[2m\u001b[36m(objective pid=3063)\u001b[0m <ipython-input-84-e8a932e68697>:2: FutureWarning: load_metric is deprecated and will be removed in the next major version of datasets. Use 'evaluate.load' instead, from the new library 🤗 Evaluate: https://huggingface.co/docs/evaluate\n"
          ]
        },
        {
          "output_type": "display_data",
          "data": {
            "text/plain": [
              "<IPython.core.display.HTML object>"
            ],
            "text/html": [
              "<div class=\"trialProgress\">\n",
              "  <h3>Trial Progress</h3>\n",
              "  <table>\n",
              "<thead>\n",
              "<tr><th>Trial name           </th><th>date               </th><th>done  </th><th>episodes_total  </th><th>experiment_id                   </th><th>experiment_tag                  </th><th>hostname    </th><th style=\"text-align: right;\">  iterations_since_restore</th><th>node_ip    </th><th style=\"text-align: right;\">  pid</th><th>score                                                                                                                                                                                           </th><th style=\"text-align: right;\">  time_since_restore</th><th style=\"text-align: right;\">  time_this_iter_s</th><th style=\"text-align: right;\">  time_total_s</th><th style=\"text-align: right;\">  timestamp</th><th style=\"text-align: right;\">  timesteps_since_restore</th><th>timesteps_total  </th><th style=\"text-align: right;\">  training_iteration</th><th>trial_id   </th><th style=\"text-align: right;\">  warmup_time</th></tr>\n",
              "</thead>\n",
              "<tbody>\n",
              "<tr><td>objective_2c7a7_00000</td><td>2022-12-07_01-33-43</td><td>True  </td><td>                </td><td>2269501859a34d918b2af7ec5210b505</td><td>0_max_length=1024,max_length=256</td><td>bfef3e998bf9</td><td style=\"text-align: right;\">                         1</td><td>172.28.0.12</td><td style=\"text-align: right;\"> 3063</td><td>(Score(precision=0.024390243902439025, recall=0.07692307692307693, fmeasure=0.03703703703703704), Score(precision=0.7804878048780488, recall=0.14479638009049775, fmeasure=0.24427480916030533))</td><td style=\"text-align: right;\">             1.30949</td><td style=\"text-align: right;\">           1.30949</td><td style=\"text-align: right;\">       1.30949</td><td style=\"text-align: right;\"> 1670376823</td><td style=\"text-align: right;\">                        0</td><td>                 </td><td style=\"text-align: right;\">                   1</td><td>2c7a7_00000</td><td style=\"text-align: right;\">   0.00369239</td></tr>\n",
              "</tbody>\n",
              "</table>\n",
              "</div>\n",
              "<style>\n",
              ".trialProgress {\n",
              "  display: flex;\n",
              "  flex-direction: column;\n",
              "  color: var(--jp-ui-font-color1);\n",
              "}\n",
              ".trialProgress h3 {\n",
              "  font-weight: bold;\n",
              "}\n",
              ".trialProgress td {\n",
              "  white-space: nowrap;\n",
              "}\n",
              "</style>\n"
            ]
          },
          "metadata": {}
        },
        {
          "output_type": "stream",
          "name": "stderr",
          "text": [
            "2022-12-07 01:33:43,385\tINFO tune.py:777 -- Total run time: 5.37 seconds (4.73 seconds for the tuning loop).\n"
          ]
        },
        {
          "output_type": "stream",
          "name": "stdout",
          "text": [
            "{'tok_input': {'max_length': 1024}, 'tok_output': {'max_length': 256}}\n"
          ]
        }
      ]
    },
    {
      "cell_type": "code",
      "source": [
        "from google.colab import drive\n",
        "drive.mount('/content/drive')"
      ],
      "metadata": {
        "colab": {
          "base_uri": "https://localhost:8080/"
        },
        "id": "O-ZX6Azhk3As",
        "outputId": "03551437-4c97-436a-85c8-b6bb68304367"
      },
      "execution_count": null,
      "outputs": [
        {
          "output_type": "stream",
          "name": "stdout",
          "text": [
            "Mounted at /content/drive\n"
          ]
        }
      ]
    },
    {
      "cell_type": "markdown",
      "source": [
        "**References**\n",
        "Transformer for Text Summarization on Long Documents.  Submitted as Final Project for Advanced Machine Learning.\n",
        "\n",
        "Lewis, M. et al. (2019).  BART: Denoising Sequence-to-Sequence Pre-training for Natural Language Generation, Translation, and Comprehension.  Available via https://arxiv.org/abs/1910.13461"
      ],
      "metadata": {
        "id": "kXqynPm0zx_D"
      }
    }
  ]
}