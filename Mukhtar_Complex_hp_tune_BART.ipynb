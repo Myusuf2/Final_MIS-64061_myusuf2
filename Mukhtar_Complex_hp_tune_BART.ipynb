{
  "nbformat": 4,
  "nbformat_minor": 0,
  "metadata": {
    "colab": {
      "provenance": [],
      "include_colab_link": true
    },
    "kernelspec": {
      "name": "python3",
      "display_name": "Python 3"
    },
    "language_info": {
      "name": "python"
    },
    "gpuClass": "standard",
    "accelerator": "GPU"
  },
  "cells": [
    {
      "cell_type": "markdown",
      "metadata": {
        "id": "view-in-github",
        "colab_type": "text"
      },
      "source": [
        "<a href=\"https://colab.research.google.com/github/Myusuf2/Final_MIS-64061_myusuf2/blob/main/Mukhtar_Complex_hp_tune_BART.ipynb\" target=\"_parent\"><img src=\"https://colab.research.google.com/assets/colab-badge.svg\" alt=\"Open In Colab\"/></a>"
      ]
    },
    {
      "cell_type": "code",
      "source": [
        "from google.colab import drive\n",
        "drive.mount(\"/content/drive\")"
      ],
      "metadata": {
        "colab": {
          "base_uri": "https://localhost:8080/"
        },
        "id": "su2jhnxyDLPZ",
        "outputId": "3f6daaab-bb61-4fa9-d872-222985dc26a2"
      },
      "execution_count": null,
      "outputs": [
        {
          "output_type": "stream",
          "name": "stdout",
          "text": [
            "Mounted at /content/drive\n"
          ]
        }
      ]
    },
    {
      "cell_type": "code",
      "source": [
        "from google.colab import drive\n",
        "drive.mount('/content/drive')"
      ],
      "metadata": {
        "colab": {
          "base_uri": "https://localhost:8080/"
        },
        "id": "C3PGzlDxVP48",
        "outputId": "1efbfc05-cba3-4b71-9a71-5aa5931bc4e0"
      },
      "execution_count": null,
      "outputs": [
        {
          "output_type": "stream",
          "name": "stdout",
          "text": [
            "Drive already mounted at /content/drive; to attempt to forcibly remount, call drive.mount(\"/content/drive\", force_remount=True).\n"
          ]
        }
      ]
    },
    {
      "cell_type": "code",
      "source": [
        "!pip install -q transformers"
      ],
      "metadata": {
        "id": "_fDAZIGCDcy9",
        "colab": {
          "base_uri": "https://localhost:8080/"
        },
        "outputId": "f0f4c4dd-3275-427f-8b1a-64bfadb234fb"
      },
      "execution_count": null,
      "outputs": [
        {
          "output_type": "stream",
          "name": "stdout",
          "text": [
            "\u001b[K     |████████████████████████████████| 5.8 MB 6.8 MB/s \n",
            "\u001b[K     |████████████████████████████████| 182 kB 61.7 MB/s \n",
            "\u001b[K     |████████████████████████████████| 7.6 MB 51.5 MB/s \n",
            "\u001b[?25h"
          ]
        }
      ]
    },
    {
      "cell_type": "code",
      "source": [
        "# seed\n",
        "seed = 42\n",
        "from tensorflow.random import set_seed\n",
        "from numpy import random\n",
        "set_seed(seed)\n",
        "random.seed(seed)\n",
        "\n",
        "# Utils\n",
        "import os\n",
        "import re\n",
        "import math\n",
        "import numpy as np\n",
        "import pandas as pd\n",
        "\n",
        "# Deep Learning\n",
        "import tensorflow as tf\n",
        "import tensorflow.keras as keras\n",
        "from transformers import BartTokenizerFast, TFBartForConditionalGeneration\n",
        "\n",
        "# Sklearn\n",
        "from sklearn.model_selection import StratifiedShuffleSplit, ShuffleSplit\n",
        "\n",
        "# Metrics\n",
        "!pip install -q rouge_score\n",
        "!pip install -q datasets\n",
        "from datasets import load_metric\n",
        "\n",
        "# Speed optimization\n",
        "tf.config.optimizer.set_experimental_options({\"auto_mixed_precision\": True})"
      ],
      "metadata": {
        "id": "HQxodkVEDpS4"
      },
      "execution_count": null,
      "outputs": []
    },
    {
      "cell_type": "code",
      "source": [
        "\n",
        "\n",
        "# seed\n",
        "seed = 42\n",
        "from tensorflow.random import set_seed\n",
        "from numpy import random\n",
        "set_seed(seed)\n",
        "random.seed(seed)\n",
        "\n",
        "# Utils\n",
        "import os\n",
        "import re\n",
        "import math\n",
        "import numpy as np\n",
        "import pandas as pd\n",
        "\n",
        "# Deep Learning\n",
        "import tensorflow as tf\n",
        "import tensorflow.keras as keras\n",
        "from transformers import BartTokenizerFast, TFBartForConditionalGeneration\n",
        "\n",
        "# Sklearn\n",
        "from sklearn.model_selection import StratifiedShuffleSplit, ShuffleSplit\n",
        "\n",
        "# Metrics\n",
        "!pip install -q rouge_score\n",
        "!pip install -q datasets\n",
        "from datasets import load_metric\n",
        "\n",
        "# Speed optimization\n",
        "tf.config.optimizer.set_experimental_options({\"auto_mixed_precision\": True})\n",
        "\n",
        "\n",
        "\n",
        "   \n",
        "\n",
        "config = {'paths' : ['/content/drive/MyDrive/debate2019.csv'], ##'/content/drive/MyDrive/debate2017.csv', '/content/drive/MyDrive/debate2018.csv', '/content/drive/MyDrive/debate2019.csv'],\n",
        "          'pretrained' : 'facebook/bart-base',\n",
        "          'batch_size' : 4,\n",
        "          'max_lr': 2e-5,\n",
        "          'epochs' : 5,\n",
        "          'tok_input' : {'padding' : 'max_length',\n",
        "                         'truncation' : True,\n",
        "                         'max_length' : 512,\n",
        "                         'add_special_tokens' : True,\n",
        "                         'return_tensors' : 'tf',\n",
        "                         'is_split_into_words' : False,\n",
        "                         'return_offsets_mapping' : False},\n",
        "          \n",
        "          'tok_output' : {'padding' : 'max_length',\n",
        "                          'truncation' : True,\n",
        "                          'max_length' : 256,\n",
        "                          'add_special_tokens' : True,\n",
        "                          'return_tensors' : 'tf',\n",
        "                          'is_split_into_words' : False,\n",
        "                          'return_offsets_mapping' : False},\n",
        "         }\n",
        "\n",
        "\n",
        "\n",
        "     \n",
        "  \n"
      ],
      "metadata": {
        "id": "vo6EtU8pPpYN"
      },
      "execution_count": null,
      "outputs": []
    },
    {
      "cell_type": "markdown",
      "source": [
        "###Dataset"
      ],
      "metadata": {
        "id": "IGpb7zmEOEFY"
      }
    },
    {
      "cell_type": "code",
      "source": [
        "\n",
        "\n",
        "class Dataset:\n",
        "    def __init__(self) :\n",
        "        paths = config['paths']\n",
        "        self.data = pd.read_csv(paths[0])\n",
        "        for i in range(1,4) :\n",
        "            df = pd.read_csv(paths[i])\n",
        "            self.data = pd.concat([self.data, df], axis = 0)\n",
        "        self.data = self.data[self.data['#WordsDocument'] > 2000].iloc[:500,:]\n",
        "        self.tokenizer = BartTokenizerFast.from_pretrained(config['pretrained'])\n",
        "    \n",
        "    def _split(self):\n",
        "        # self.data['y_bins'] = pd.cut(self.data['AbsCompressionRatio'], bins = 5)\n",
        "        # sss = StratifiedShuffleSplit(n_splits = 1, test_size = 0.1, random_state = seed)\n",
        "        # self.data['fold'] = 0\n",
        "        \n",
        "        # for t_, v_ in sss.split(self.data.drop('y_bins', axis=1), self.data['y_bins']): \n",
        "        #     self.data.loc[t_,'fold'] = 1\n",
        "        \n",
        "        self.data['fold'] = 0\n",
        "        ss = ShuffleSplit(n_splits = 1, test_size = 0.1, random_state = seed)\n",
        "        for t_, v_ in ss.split(self.data): \n",
        "            self.data['fold'].iloc[t_] = 1\n",
        "        \n",
        "    def _tokenize(self, i):\n",
        "        x = self.tokenizer(self.data[self.data['fold'] == i]['Full-Document'].values.tolist(), \n",
        "                           **config['tok_input'])  \n",
        "        \n",
        "        y = self.tokenizer(self.data[self.data['fold'] == i]['Abstract'].values.tolist(), \n",
        "                           **config['tok_output'])\n",
        "        \n",
        "        return ({'input_ids': x['input_ids'],\n",
        "                'attention_mask' : x['attention_mask'],\n",
        "                'decoder_attention_mask' : y['attention_mask']}, y['input_ids'])\n",
        "    \n",
        "    def _to_tf(self, ds):\n",
        "        return tf.data.Dataset.from_tensor_slices(ds).batch(config['batch_size']) \\\n",
        "                                                     .prefetch(1)\n",
        "                                                     \n",
        "    \n",
        "    def get(self) :\n",
        "        self._split()\n",
        "        trainset = self._tokenize(1)\n",
        "        valset = self._tokenize(0)\n",
        "        \n",
        "        return (self._to_tf(trainset),\n",
        "                self._to_tf(valset))\n",
        "            \n",
        "\n",
        "\n",
        "\n",
        "     \n",
        "\n",
        "            "
      ],
      "metadata": {
        "id": "MWGWqzgcOG6u"
      },
      "execution_count": null,
      "outputs": []
    },
    {
      "cell_type": "code",
      "source": [
        "trainset, valset = Dataset().get()\n"
      ],
      "metadata": {
        "id": "_BhiVJIoOTYD"
      },
      "execution_count": null,
      "outputs": []
    },
    {
      "cell_type": "markdown",
      "source": [
        "###\n",
        "Model"
      ],
      "metadata": {
        "id": "Yax8OS0UULIH"
      }
    },
    {
      "cell_type": "code",
      "source": [
        "keras.backend.clear_session()\n",
        "\n",
        "class Bart(keras.Model):\n",
        "    def __init__(self):\n",
        "        super(Bart, self).__init__()\n",
        "        self.model = TFBartForConditionalGeneration.from_pretrained(config['pretrained'], \n",
        "                                                                   return_dict = True)\n",
        "        \n",
        "    def call(self, inputs, training = False):\n",
        "        x, y = inputs\n",
        "        outputs = self.model(input_ids = x['input_ids'], \n",
        "                             attention_mask = x['attention_mask'], \n",
        "                             labels = y, \n",
        "                             decoder_attention_mask = x['decoder_attention_mask'])\n",
        "        return outputs.loss, outputs.logits\n",
        "    \n",
        "    \n",
        "    def train_step(self, data):\n",
        "        with tf.GradientTape() as tape:\n",
        "            loss, logits = self(data, training=True)\n",
        "\n",
        "        trainable_vars = self.trainable_variables\n",
        "        gradients = tape.gradient(loss, trainable_vars)\n",
        "        self.optimizer.apply_gradients(zip(gradients, trainable_vars))\n",
        "\n",
        "        _lr = self.optimizer.lr\n",
        "        return {\"loss\": tf.reduce_mean(loss), 'lr' : _lr}\n",
        "    \n",
        "    \n",
        "    def test_step(self, data):\n",
        "        with tf.GradientTape() as tape:\n",
        "            loss, logits = self(data, training=False)\n",
        "        \n",
        "        return {\"loss\": tf.reduce_mean(loss)}"
      ],
      "metadata": {
        "id": "aDKLH_DzRKaV"
      },
      "execution_count": null,
      "outputs": []
    },
    {
      "cell_type": "code",
      "source": [
        "bart = Bart()\n",
        "bart.compile(optimizer = keras.optimizers.Adam(1e-5))"
      ],
      "metadata": {
        "id": "4s3_-5XMTeaq"
      },
      "execution_count": null,
      "outputs": []
    },
    {
      "cell_type": "code",
      "source": [],
      "metadata": {
        "id": "tUqwSpIgP1GF"
      },
      "execution_count": null,
      "outputs": []
    },
    {
      "cell_type": "markdown",
      "source": [
        "###1Cycle Scheduler"
      ],
      "metadata": {
        "id": "xvr6sBtSUZOd"
      }
    },
    {
      "cell_type": "code",
      "source": [
        "K = keras.backend\n",
        "\n",
        "class OneCycleLr(keras.callbacks.Callback):\n",
        "    def __init__(self,\n",
        "                 max_lr: float,\n",
        "                 total_steps: int = None,\n",
        "                 epochs: int = None,\n",
        "                 steps_per_epoch: int = None,\n",
        "                 pct_start: float = 0.3,\n",
        "                 anneal_strategy: str = \"cos\",\n",
        "                 cycle_momentum: bool = True,\n",
        "                 base_momentum: float = 0.85,\n",
        "                 max_momentum: float = 0.95,\n",
        "                 div_factor: float = 25.0,\n",
        "                 final_div_factor: float = 1e4):\n",
        "\n",
        "        super(OneCycleLr, self).__init__()\n",
        "\n",
        "        # validate total steps:\n",
        "        if total_steps :\n",
        "            self.total_steps = total_steps\n",
        "        else:\n",
        "            self.total_steps = epochs * steps_per_epoch\n",
        "\n",
        "        self.step_num = 0\n",
        "        self.step_size_up = float(pct_start * self.total_steps) - 1\n",
        "        self.step_size_down = float(self.total_steps - self.step_size_up) - 1\n",
        "\n",
        "        # Validate pct_start\n",
        "        if anneal_strategy == \"cos\":\n",
        "            self.anneal_func = self._annealing_cos\n",
        "        elif anneal_strategy == \"linear\":\n",
        "            self.anneal_func = self._annealing_linear\n",
        "\n",
        "        # Initialize learning rate variables\n",
        "        self.initial_lr = max_lr / div_factor\n",
        "        self.max_lr = max_lr\n",
        "        self.min_lr = self.initial_lr / final_div_factor\n",
        "\n",
        "        # Initial momentum variables\n",
        "        self.cycle_momentum = cycle_momentum\n",
        "        if self.cycle_momentum:\n",
        "            self.m_momentum = max_momentum\n",
        "            self.momentum = max_momentum\n",
        "            self.b_momentum = base_momentum\n",
        "\n",
        "        # Initialize variable to learning_rate & momentum\n",
        "        self.track_lr = []\n",
        "        self.track_mom = []\n",
        "\n",
        "    def _annealing_cos(self, start, end, pct):\n",
        "        cos_out = math.cos(math.pi * pct) + 1\n",
        "        return end + (start - end) / 2.0 * cos_out\n",
        "\n",
        "    def _annealing_linear(self, start, end, pct):\n",
        "        return (end - start) * pct + start\n",
        "\n",
        "    def set_lr_mom(self):\n",
        "        if self.step_num <= self.step_size_up:\n",
        "            # update learining rate\n",
        "            computed_lr = self.anneal_func(self.initial_lr, self.max_lr, self.step_num / self.step_size_up)\n",
        "            K.set_value(self.model.optimizer.lr, computed_lr)\n",
        "            # update momentum if cycle_momentum\n",
        "            if self.cycle_momentum:\n",
        "                computed_momentum = self.anneal_func(self.m_momentum, self.b_momentum, self.step_num / self.step_size_up)\n",
        "                try:\n",
        "                    K.set_value(self.model.optimizer.momentum,\n",
        "                                computed_momentum)\n",
        "                except:\n",
        "                    K.set_value(self.model.optimizer.beta_1, computed_momentum)\n",
        "        else:\n",
        "            down_step_num = self.step_num - self.step_size_up\n",
        "            # update learning rate\n",
        "            computed_lr = self.anneal_func(self.max_lr, self.min_lr, down_step_num / self.step_size_down)\n",
        "            K.set_value(self.model.optimizer.lr, computed_lr)\n",
        "            # update momentum if cycle_momentum\n",
        "            if self.cycle_momentum:\n",
        "                computed_momentum = self.anneal_func(self.b_momentum, self.m_momentum, down_step_num / self.step_size_down)\n",
        "                try:\n",
        "                    K.set_value(self.model.optimizer.momentum,\n",
        "                                computed_momentum)\n",
        "                except:\n",
        "                    K.set_value(self.model.optimizer.beta_1, computed_momentum)\n",
        "\n",
        "    def on_train_begin(self, logs=None):\n",
        "        # Set initial learning rate & momentum values\n",
        "        K.set_value(self.model.optimizer.lr, self.initial_lr)\n",
        "        if self.cycle_momentum:\n",
        "            try:\n",
        "                K.set_value(self.model.optimizer.momentum, self.momentum)\n",
        "            except:\n",
        "                K.set_value(self.model.optimizer.beta_1, self.momentum)\n",
        "\n",
        "    def on_train_batch_end(self, batch, logs=None):\n",
        "        # Grab the current learning rate & momentum\n",
        "        lr = float(K.get_value(self.model.optimizer.lr))\n",
        "        try:\n",
        "            mom = float(K.get_value(self.model.optimizer.momentum))\n",
        "        except:\n",
        "            mom = float(K.get_value(self.model.optimizer.beta_1))\n",
        "        # Append to the list\n",
        "        self.track_lr.append(lr)\n",
        "        self.track_mom.append(mom)\n",
        "        # Update learning rate & momentum\n",
        "        self.set_lr_mom()\n",
        "        # increment step_num\n",
        "        self.step_num += 1"
      ],
      "metadata": {
        "id": "DIRD1dEjUcZe"
      },
      "execution_count": null,
      "outputs": []
    },
    {
      "cell_type": "markdown",
      "source": [
        "###Training"
      ],
      "metadata": {
        "id": "4-ZQGRZ3UpB8"
      }
    },
    {
      "cell_type": "code",
      "source": [
        "scheduler = OneCycleLr(max_lr=config['max_lr'], \n",
        "                       steps_per_epoch=trainset.cardinality().numpy(), \n",
        "                       epochs=config['epochs'])\n",
        "\n",
        "checkpoint = keras.callbacks.ModelCheckpoint(filepath = '/content/drive/MyDrive/ckpt_bart',\n",
        "                                             save_best_only = True,\n",
        "                                             save_weights_only = True)\n",
        "\n",
        "early = keras.callbacks.EarlyStopping(patience = 2, restore_best_weights=True)"
      ],
      "metadata": {
        "id": "NxAK3xYYUr2P"
      },
      "execution_count": null,
      "outputs": []
    },
    {
      "cell_type": "code",
      "source": [
        "bart.fit(trainset,\n",
        "         validation_data = valset,\n",
        "         epochs = config['epochs'],\n",
        "         callbacks = [early,scheduler]) "
      ],
      "metadata": {
        "id": "GwRQvVerd5Oi"
      },
      "execution_count": null,
      "outputs": []
    },
    {
      "cell_type": "markdown",
      "source": [
        "##Testing"
      ],
      "metadata": {
        "id": "o-7Fh1oDd-hr"
      }
    },
    {
      "cell_type": "code",
      "source": [
        "class TextSummarization():\n",
        "  def __init__(self, pretrained, tok, beam, temperature):\n",
        "\n",
        "    self.model = Bart().model.from_pretrained(pretrained)\n",
        "    self.tokenizer = BartTokenizerFast.from_pretrained(tok)\n",
        "    self.beam = beam\n",
        "    self.temperature = temperature\n",
        "\n",
        "  def generate(self, text):\n",
        "    text = self.tokenizer(text, **config['tok_input']).input_ids\n",
        "    tokens = self.model.generate(text,\n",
        "                                 min_length = 0,\n",
        "                                 max_length = 128,\n",
        "                                 num_beams = self.beam,\n",
        "                                 temperature = self.temperature,\n",
        "                                 do_sample = True,\n",
        "                                 repetition_penalty = 2.5,\n",
        "                                 length_penalty = 1,\n",
        "                                 early_stopping = True).numpy()[0]\n",
        "    return self.tokenizer.decode(tokens, skip_special_tokens = True)\n",
        "\n",
        "  def post_processing(self, text):\n",
        "    text = text[:text.rfind('.')+1]\n",
        "    return re.sub(\"[\\(\\[].*?[\\)\\]]\", \"\", text)\n",
        "\n",
        "  def summarize(self, text):\n",
        "    text = self.generate(text)\n",
        "    text = self.post_processing(text)\n",
        "    return text\n",
        "\n",
        "ts = TextSummarization(pretrained = '/content/drive/MyDrive/Bart', tok = 'facebook/bart-base',beam = 5, temperature = 1.2)"
      ],
      "metadata": {
        "id": "IysnLNtyeBZt"
      },
      "execution_count": null,
      "outputs": []
    },
    {
      "cell_type": "code",
      "source": [
        "def compute_rouge(id_doc, prediction):\n",
        "    rouge = load_metric(\"rouge\")\n",
        "    rouge.add(reference = data['Abstract'].values.tolist()[id_doc], prediction = summary)\n",
        "    score_abs = rouge.compute()['rougeL']\n",
        "    rouge = load_metric(\"rouge\")\n",
        "    rouge.add(reference = data['Extract'].values.tolist()[id_doc], prediction = summary)\n",
        "    score_ext = rouge.compute()['rougeL']\n",
        "    return score_abs.mid, score_ext.mid\n",
        "\n",
        "def compute_bleu(id_doc, prediction):\n",
        "    bleu = load_metric(\"bleu\")\n",
        "    score_abs = bleu.compute(predictions=[data['Abstract'].values.tolist()[id_doc].split()], \n",
        "                             references=[[summary.split()]], max_order = 1)['bleu']\n",
        "    bleu = load_metric(\"bleu\")\n",
        "    score_ext = bleu.compute(predictions=[data['Extract'].values.tolist()[id_doc].split()], \n",
        "                             references=[[summary.split()]], max_order = 1)['bleu']\n",
        "    return score_abs, score_ext"
      ],
      "metadata": {
        "id": "YE9Z3zLqea55"
      },
      "execution_count": null,
      "outputs": []
    },
    {
      "cell_type": "code",
      "source": [
        "paths = config['paths']\n",
        "data = pd.read_csv(paths[-1])\n",
        "id_doc = 14272\n",
        "\n",
        "print('Abstract :')\n",
        "print(data['Abstract'].values.tolist()[id_doc])\n",
        "print()\n",
        "summary = ts.summarize(data['Full-Document'].values.tolist()[id_doc])\n",
        "print('Summary :')\n",
        "print(summary)"
      ],
      "metadata": {
        "id": "Ce8iWKhjek8B"
      },
      "execution_count": null,
      "outputs": []
    },
    {
      "cell_type": "code",
      "source": [
        "abs, ext = compute_rouge(id_doc, summary)\n",
        "print('Socre on Abstract :', abs)\n",
        "print('Socre on Extract :', ext)"
      ],
      "metadata": {
        "id": "jNL_uhSfe4jH"
      },
      "execution_count": null,
      "outputs": []
    },
    {
      "cell_type": "code",
      "source": [
        "abs, ext = compute_bleu(id_doc, summary)\n",
        "print('Socre on Abstract :', abs)\n",
        "print('Socre on Extract :', ext)"
      ],
      "metadata": {
        "id": "1OyS0zYOe-sp"
      },
      "execution_count": null,
      "outputs": []
    }
  ]
}